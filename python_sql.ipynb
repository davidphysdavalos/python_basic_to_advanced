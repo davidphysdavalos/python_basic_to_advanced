{
 "cells": [
  {
   "cell_type": "markdown",
   "metadata": {},
   "source": [
    "# Python MySQL tutorial with basic MySQL operations"
   ]
  },
  {
   "cell_type": "markdown",
   "metadata": {},
   "source": [
    "## Preamble"
   ]
  },
  {
   "cell_type": "code",
   "execution_count": 23,
   "metadata": {},
   "outputs": [],
   "source": [
    "# Importing MySQL Connector, you must install this first if you don't have it\n",
    "import mysql.connector\n",
    "import os"
   ]
  },
  {
   "cell_type": "code",
   "execution_count": 62,
   "metadata": {},
   "outputs": [
    {
     "name": "stdout",
     "output_type": "stream",
     "text": [
      "<mysql.connector.connection_cext.CMySQLConnection object at 0x7f026c789e80>\n"
     ]
    }
   ],
   "source": [
    "# Setting up the connection to the database and credentials\n",
    "mydb = mysql.connector.connect(\n",
    "  host=\"localhost\",\n",
    "  user=\"root\",\n",
    "  password=os.getenv(\"mysql_root_password\"),\n",
    ")\n",
    "\n",
    "print(mydb)"
   ]
  },
  {
   "cell_type": "code",
   "execution_count": 66,
   "metadata": {},
   "outputs": [],
   "source": [
    "# Setting cursor to the database\n",
    "mycursor=mydb.cursor()\n",
    "# Setting max execution time to 1 hour, otherwise it will timeout\n",
    "mycursor.execute(\"SET GLOBAL max_execution_time=3600000\")"
   ]
  },
  {
   "cell_type": "code",
   "execution_count": 50,
   "metadata": {},
   "outputs": [],
   "source": [
    "# Setting database\n",
    "mycursor.execute(\"USE classicmodels\")"
   ]
  },
  {
   "cell_type": "markdown",
   "metadata": {},
   "source": [
    "## Exploring the database"
   ]
  },
  {
   "cell_type": "code",
   "execution_count": 51,
   "metadata": {},
   "outputs": [
    {
     "name": "stdout",
     "output_type": "stream",
     "text": [
      "[('customers',), ('employees',), ('offices',), ('orderdetails',), ('orders',), ('payments',), ('productlines',), ('products',)]\n"
     ]
    }
   ],
   "source": [
    "# Show tables\n",
    "mycursor.execute(\"SHOW TABLES\")\n",
    "print(mycursor.fetchall())"
   ]
  },
  {
   "cell_type": "code",
   "execution_count": 17,
   "metadata": {},
   "outputs": [
    {
     "name": "stdout",
     "output_type": "stream",
     "text": [
      "[('customerNumber', b'int', 'NO', 'PRI', None, ''), ('customerName', b'varchar(50)', 'NO', '', None, ''), ('contactLastName', b'varchar(50)', 'NO', '', None, ''), ('contactFirstName', b'varchar(50)', 'NO', '', None, ''), ('phone', b'varchar(50)', 'NO', '', None, ''), ('addressLine1', b'varchar(50)', 'NO', '', None, ''), ('addressLine2', b'varchar(50)', 'YES', '', None, ''), ('city', b'varchar(50)', 'NO', '', None, ''), ('state', b'varchar(50)', 'YES', '', None, ''), ('postalCode', b'varchar(15)', 'YES', '', None, ''), ('country', b'varchar(50)', 'NO', '', None, ''), ('salesRepEmployeeNumber', b'int', 'YES', 'MUL', None, ''), ('creditLimit', b'decimal(10,2)', 'YES', '', None, '')]\n"
     ]
    }
   ],
   "source": [
    "#Describe classicmodels\n",
    "mycursor.execute(\"DESCRIBE customers\")\n",
    "print(mycursor.fetchall())"
   ]
  },
  {
   "cell_type": "code",
   "execution_count": 18,
   "metadata": {},
   "outputs": [
    {
     "name": "stdout",
     "output_type": "stream",
     "text": [
      "[('orderNumber', b'int', 'NO', 'PRI', None, ''), ('orderDate', b'date', 'NO', '', None, ''), ('requiredDate', b'date', 'NO', '', None, ''), ('shippedDate', b'date', 'YES', '', None, ''), ('status', b'varchar(15)', 'NO', '', None, ''), ('comments', b'text', 'YES', '', None, ''), ('customerNumber', b'int', 'NO', 'MUL', None, '')]\n"
     ]
    }
   ],
   "source": [
    "#Describe classicmodels\n",
    "mycursor.execute(\"DESCRIBE orders\")\n",
    "print(mycursor.fetchall())"
   ]
  },
  {
   "cell_type": "markdown",
   "metadata": {},
   "source": [
    "## Basic SELECTION"
   ]
  },
  {
   "cell_type": "code",
   "execution_count": 47,
   "metadata": {},
   "outputs": [
    {
     "name": "stdout",
     "output_type": "stream",
     "text": [
      "[('Nantes',), ('Las Vegas',), ('Melbourne',), ('Nantes',), ('Stavern',), ('San Rafael',), ('Warszawa',), ('Frankfurt',), ('San Francisco',), ('NYC',), ('Madrid',), ('Luleå',), ('Kobenhavn',), ('Lyon',), ('Singapore',), ('NYC',), ('Allentown',), ('Burlingame',), ('Singapore',), ('Bergen',), ('New Haven',), ('Lisboa',), ('Lille',), ('Paris',), ('Cambridge',), ('Bridgewater',), ('Kita-ku',), ('NYC',), ('Helsinki',), ('Manchester',), ('Dublin',), ('Brickhaven',), ('Liverpool',), ('Vancouver',), ('Brickhaven',), ('Pasadena',), ('Singapore',), ('Strasbourg',), ('Central Hong Kong',), ('Barcelona',), ('Glendale',), ('Cunewalde',), ('Århus',), ('Montréal',), ('Madrid',), ('San Diego',), ('Cowes',), ('Toulouse',), ('Frankfurt',), ('Torino',), ('Paris',), ('Versailles',), ('Köln',), ('Tsawassen',), ('München',), ('North Sydney',), ('Bergamo',), ('Chatswood',), ('Cambridge',), ('Fribourg',), ('Genève',), ('Oslo',), ('Amsterdam',), ('Berlin',), ('Oulu',), ('Bruxelles',), ('White Plains',), ('New Bedford',), ('San Francisco',), ('Auckland  ',), ('London',), ('Newark',), ('South Brisbane',), ('Espoo',), ('Brandenburg',), ('Philadelphia',), ('Madrid',), ('Los Angeles',), ('Cork',), ('Marseille',), ('Reims',), ('Hatfield',), ('Auckland',), ('Münster',), ('Boston',), ('Nashua',), ('Lisboa',), ('Bern',), ('Brickhaven',), ('Charleroi',), ('Salzburg',), ('Makati City',), ('Reggio Emilia',), ('Minato-ku',), ('Paris',), ('Stuttgart',), ('Wellington',), ('Munich',), ('NYC',), ('Leipzig',), ('Glendale',), ('Bräcke',), ('San Jose',), ('Graz',), ('New Haven',), ('NYC',), ('Madrid',), ('Aachen',), ('New Bedford',), ('Madrid',), ('Glen Waverly',), ('Milan',), ('Burbank',), ('Mannheim',), ('Saint Petersburg',), ('Herzlia',), ('Sevilla',), ('Philadelphia',), ('Brisbane',), ('London',), ('Boston',), ('Auckland  ',)]\n"
     ]
    }
   ],
   "source": [
    "query=\"SELECT city FROM customers;\"\n",
    "mycursor.execute(query)\n",
    "print(mycursor.fetchall())"
   ]
  },
  {
   "cell_type": "markdown",
   "metadata": {},
   "source": [
    "Selecting many columns from customers table"
   ]
  },
  {
   "cell_type": "code",
   "execution_count": 70,
   "metadata": {},
   "outputs": [
    {
     "name": "stdout",
     "output_type": "stream",
     "text": [
      "[('Nantes', None, 'France', '40.32.2555'), ('Las Vegas', 'NV', 'USA', '7025551838'), ('Melbourne', 'Victoria', 'Australia', '03 9520 4555'), ('Nantes', None, 'France', '40.67.8555'), ('Stavern', None, 'Norway', '07-98 9555'), ('San Rafael', 'CA', 'USA', '4155551450'), ('Warszawa', None, 'Poland', '(26) 642-7555'), ('Frankfurt', None, 'Germany', '+49 69 66 90 2555'), ('San Francisco', 'CA', 'USA', '6505555787'), ('NYC', 'NY', 'USA', '2125557818'), ('Madrid', None, 'Spain', '(91) 555 94 44'), ('Luleå', None, 'Sweden', '0921-12 3555'), ('Kobenhavn', None, 'Denmark', '31 12 3555'), ('Lyon', None, 'France', '78.32.5555'), ('Singapore', None, 'Singapore', '+65 221 7555'), ('NYC', 'NY', 'USA', '2125557413'), ('Allentown', 'PA', 'USA', '2155551555'), ('Burlingame', 'CA', 'USA', '6505556809'), ('Singapore', None, 'Singapore', '+65 224 1555'), ('Bergen', None, 'Norway  ', '+47 2267 3215'), ('New Haven', 'CT', 'USA', '2035557845'), ('Lisboa', None, 'Portugal', '(1) 356-5555'), ('Lille', None, 'France', '20.16.1555'), ('Paris', None, 'France', '(1) 42.34.2555'), ('Cambridge', 'MA', 'USA', '6175555555'), ('Bridgewater', 'CT', 'USA', '2035552570'), ('Kita-ku', 'Osaka', 'Japan', '+81 06 6342 5555'), ('NYC', 'NY', 'USA', '2125551500'), ('Helsinki', None, 'Finland', '90-224 8555'), ('Manchester', None, 'UK', '(171) 555-1555'), ('Dublin', None, 'Ireland', '+353 1862 1555'), ('Brickhaven', 'MA', 'USA', '6175558428'), ('Liverpool', None, 'UK', '(171) 555-2282'), ('Vancouver', 'BC', 'Canada', '(604) 555-3392'), ('Brickhaven', 'MA', 'USA', '6175557555'), ('Pasadena', 'CA', 'USA', '6265557265'), ('Singapore', None, 'Singapore', '+612 9411 1555'), ('Strasbourg', None, 'France', '88.60.1555'), ('Central Hong Kong', None, 'Hong Kong', '+852 2251 1555'), ('Barcelona', None, 'Spain', '(93) 203 4555'), ('Glendale', 'CA', 'USA', '3105552373'), ('Cunewalde', None, 'Germany', '0372-555188'), ('Århus', None, 'Denmark', '86 21 3555'), ('Montréal', 'Québec', 'Canada', '(514) 555-8054'), ('Madrid', None, 'Spain', '(91) 745 6555'), ('San Diego', 'CA', 'USA', '7605558146'), ('Cowes', 'Isle of Wight', 'UK', '(198) 555-8888'), ('Toulouse', None, 'France', '61.77.6555'), ('Frankfurt', None, 'Germany', '069-0555984'), ('Torino', None, 'Italy', '011-4988555'), ('Paris', None, 'France', '+33 1 46 62 7555'), ('Versailles', None, 'France', '30.59.8555'), ('Köln', None, 'Germany', '0221-5554327'), ('Tsawassen', 'BC', 'Canada', '(604) 555-4555'), ('München', None, 'Germany', '089-0877555'), ('North Sydney', 'NSW', 'Australia', '02 9936 8555'), ('Bergamo', None, 'Italy', '035-640555'), ('Chatswood', 'NSW', 'Australia', '+61 2 9495 8555'), ('Cambridge', 'MA', 'USA', '6175558555'), ('Fribourg', None, 'Switzerland', '+41 26 425 50 01'), ('Genève', None, 'Switzerland', '0897-034555'), ('Oslo', None, 'Norway  ', '+47 2212 1555'), ('Amsterdam', None, 'Netherlands', '+31 20 491 9555'), ('Berlin', None, 'Germany', '030-0074555'), ('Oulu', None, 'Finland', '981-443655'), ('Bruxelles', None, 'Belgium', '(02) 5554 67'), ('White Plains', 'NY', 'USA', '9145554562'), ('New Bedford', 'MA', 'USA', '5085559555'), ('San Francisco', 'CA', 'USA', '6505551386'), ('Auckland  ', None, 'New Zealand', '+64 9 312 5555'), ('London', None, 'UK', '(171) 555-0297'), ('Newark', 'NJ', 'USA', '2015559350'), ('South Brisbane', 'Queensland', 'Australia', '61-7-3844-6555'), ('Espoo', None, 'Finland', '+358 9 8045 555'), ('Brandenburg', None, 'Germany', '0555-09555'), ('Philadelphia', 'PA', 'USA', '2155554695'), ('Madrid', None, 'Spain', '+34 913 728 555'), ('Los Angeles', 'CA', 'USA', '2155554369'), ('Cork', 'Co. Cork', 'Ireland', '2967 555'), ('Marseille', None, 'France', '91.24.4555'), ('Reims', None, 'France', '26.47.1555'), ('Hatfield', 'Pretoria', 'South Africa', '+27 21 550 3555'), ('Auckland', None, 'New Zealand', '64-9-3763555'), ('Münster', None, 'Germany', '0251-555259'), ('Boston', 'MA', 'USA', '6175559555'), ('Nashua', 'NH', 'USA', '6035558647'), ('Lisboa', None, 'Portugal', '(1) 354-2555'), ('Bern', None, 'Switzerland', '0452-076555'), ('Brickhaven', 'MA', 'USA', '6175558555'), ('Charleroi', None, 'Belgium', '(071) 23 67 2555'), ('Salzburg', None, 'Austria', '6562-9555'), ('Makati City', None, 'Philippines', '+63 2 555 3587'), ('Reggio Emilia', None, 'Italy', '0522-556555'), ('Minato-ku', 'Tokyo', 'Japan', '+81 3 3584 0555'), ('Paris', None, 'France', '(1) 47.55.6555'), ('Stuttgart', None, 'Germany', '0711-555361'), ('Wellington', None, 'New Zealand', '04 499 9555'), ('Munich', None, 'Germany', ' +49 89 61 08 9555'), ('NYC', 'NY', 'USA', '2125558493'), ('Leipzig', None, 'Germany', '0342-555176'), ('Glendale', 'CT', 'USA', '2035554407'), ('Bräcke', None, 'Sweden', '0695-34 6555'), ('San Jose', 'CA', 'USA', '4085553659'), ('Graz', None, 'Austria', '7675-3555'), ('New Haven', 'CT', 'USA', '2035559545'), ('NYC', 'NY', 'USA', '2125551957'), ('Madrid', None, 'Spain', '(91) 555 22 82'), ('Aachen', None, 'Germany', '0241-039123'), ('New Bedford', 'MA', 'USA', '5085552555'), ('Madrid', None, 'Spain', '+34 913 728555'), ('Glen Waverly', 'Victoria', 'Australia', '61-9-3844-6555'), ('Milan', None, 'Italy', '+39 022515555'), ('Burbank', 'CA', 'USA', '3105553722'), ('Mannheim', None, 'Germany', '0621-08555'), ('Saint Petersburg', None, 'Russia', '+7 812 293 0521'), ('Herzlia', None, 'Israel', '+ 972 9 959 8555'), ('Sevilla', None, 'Spain', '(95) 555 82 82'), ('Philadelphia', 'PA', 'USA', '2155559857'), ('Brisbane', 'CA', 'USA', '4155554312'), ('London', None, 'UK', '(171) 555-7555'), ('Boston', 'MA', 'USA', '6175552555'), ('Auckland  ', None, 'New Zealand', '+64 9 5555500')]\n"
     ]
    }
   ],
   "source": [
    "query=\"SELECT city, state,country,phone FROM customers;\"\n",
    "mycursor.execute(query)\n",
    "output=mycursor.fetchall()\n",
    "print(output)"
   ]
  },
  {
   "cell_type": "code",
   "execution_count": 93,
   "metadata": {},
   "outputs": [
    {
     "name": "stdout",
     "output_type": "stream",
     "text": [
      "[(122,)]\n"
     ]
    }
   ],
   "source": [
    "# Lets count countries in the last query\n",
    "query=\"SELECT COUNT(country) FROM customers;\"\n",
    "mycursor.execute(query)\n",
    "print(mycursor.fetchall())"
   ]
  },
  {
   "cell_type": "markdown",
   "metadata": {},
   "source": [
    "But it might be that they are repeated, let's count only distinct ones"
   ]
  },
  {
   "cell_type": "code",
   "execution_count": 86,
   "metadata": {},
   "outputs": [
    {
     "name": "stdout",
     "output_type": "stream",
     "text": [
      "[(27,)]\n"
     ]
    }
   ],
   "source": [
    "#Count different countries in the customers table\n",
    "query=\"SELECT COUNT(DISTINCT country) FROM customers;\"\n",
    "mycursor.execute(query)\n",
    "print(mycursor.fetchall())"
   ]
  },
  {
   "cell_type": "markdown",
   "metadata": {},
   "source": [
    "### Convert selection to DataFrame"
   ]
  },
  {
   "cell_type": "code",
   "execution_count": 88,
   "metadata": {},
   "outputs": [],
   "source": [
    "import pandas as pd\n",
    "# Remember we defined output few cells above\n",
    "df=pd.DataFrame(output,columns=[\"city\",\"state\",\"country\",\"phone\"])"
   ]
  },
  {
   "cell_type": "code",
   "execution_count": 89,
   "metadata": {},
   "outputs": [
    {
     "data": {
      "text/html": [
       "<div>\n",
       "<style scoped>\n",
       "    .dataframe tbody tr th:only-of-type {\n",
       "        vertical-align: middle;\n",
       "    }\n",
       "\n",
       "    .dataframe tbody tr th {\n",
       "        vertical-align: top;\n",
       "    }\n",
       "\n",
       "    .dataframe thead th {\n",
       "        text-align: right;\n",
       "    }\n",
       "</style>\n",
       "<table border=\"1\" class=\"dataframe\">\n",
       "  <thead>\n",
       "    <tr style=\"text-align: right;\">\n",
       "      <th></th>\n",
       "      <th>city</th>\n",
       "      <th>state</th>\n",
       "      <th>country</th>\n",
       "      <th>phone</th>\n",
       "    </tr>\n",
       "  </thead>\n",
       "  <tbody>\n",
       "    <tr>\n",
       "      <th>count</th>\n",
       "      <td>122</td>\n",
       "      <td>49</td>\n",
       "      <td>122</td>\n",
       "      <td>122</td>\n",
       "    </tr>\n",
       "    <tr>\n",
       "      <th>unique</th>\n",
       "      <td>96</td>\n",
       "      <td>18</td>\n",
       "      <td>28</td>\n",
       "      <td>121</td>\n",
       "    </tr>\n",
       "    <tr>\n",
       "      <th>top</th>\n",
       "      <td>NYC</td>\n",
       "      <td>CA</td>\n",
       "      <td>USA</td>\n",
       "      <td>6175558555</td>\n",
       "    </tr>\n",
       "    <tr>\n",
       "      <th>freq</th>\n",
       "      <td>5</td>\n",
       "      <td>11</td>\n",
       "      <td>36</td>\n",
       "      <td>2</td>\n",
       "    </tr>\n",
       "  </tbody>\n",
       "</table>\n",
       "</div>"
      ],
      "text/plain": [
       "       city state country       phone\n",
       "count   122    49     122         122\n",
       "unique   96    18      28         121\n",
       "top     NYC    CA     USA  6175558555\n",
       "freq      5    11      36           2"
      ]
     },
     "execution_count": 89,
     "metadata": {},
     "output_type": "execute_result"
    }
   ],
   "source": [
    "df.describe()"
   ]
  },
  {
   "cell_type": "code",
   "execution_count": 90,
   "metadata": {},
   "outputs": [
    {
     "data": {
      "text/html": [
       "<div>\n",
       "<style scoped>\n",
       "    .dataframe tbody tr th:only-of-type {\n",
       "        vertical-align: middle;\n",
       "    }\n",
       "\n",
       "    .dataframe tbody tr th {\n",
       "        vertical-align: top;\n",
       "    }\n",
       "\n",
       "    .dataframe thead th {\n",
       "        text-align: right;\n",
       "    }\n",
       "</style>\n",
       "<table border=\"1\" class=\"dataframe\">\n",
       "  <thead>\n",
       "    <tr style=\"text-align: right;\">\n",
       "      <th></th>\n",
       "      <th>city</th>\n",
       "      <th>state</th>\n",
       "      <th>country</th>\n",
       "      <th>phone</th>\n",
       "    </tr>\n",
       "  </thead>\n",
       "  <tbody>\n",
       "    <tr>\n",
       "      <th>0</th>\n",
       "      <td>Nantes</td>\n",
       "      <td>None</td>\n",
       "      <td>France</td>\n",
       "      <td>40.32.2555</td>\n",
       "    </tr>\n",
       "    <tr>\n",
       "      <th>1</th>\n",
       "      <td>Las Vegas</td>\n",
       "      <td>NV</td>\n",
       "      <td>USA</td>\n",
       "      <td>7025551838</td>\n",
       "    </tr>\n",
       "    <tr>\n",
       "      <th>2</th>\n",
       "      <td>Melbourne</td>\n",
       "      <td>Victoria</td>\n",
       "      <td>Australia</td>\n",
       "      <td>03 9520 4555</td>\n",
       "    </tr>\n",
       "    <tr>\n",
       "      <th>3</th>\n",
       "      <td>Nantes</td>\n",
       "      <td>None</td>\n",
       "      <td>France</td>\n",
       "      <td>40.67.8555</td>\n",
       "    </tr>\n",
       "    <tr>\n",
       "      <th>4</th>\n",
       "      <td>Stavern</td>\n",
       "      <td>None</td>\n",
       "      <td>Norway</td>\n",
       "      <td>07-98 9555</td>\n",
       "    </tr>\n",
       "  </tbody>\n",
       "</table>\n",
       "</div>"
      ],
      "text/plain": [
       "        city     state    country         phone\n",
       "0     Nantes      None     France    40.32.2555\n",
       "1  Las Vegas        NV        USA    7025551838\n",
       "2  Melbourne  Victoria  Australia  03 9520 4555\n",
       "3     Nantes      None     France    40.67.8555\n",
       "4    Stavern      None     Norway    07-98 9555"
      ]
     },
     "execution_count": 90,
     "metadata": {},
     "output_type": "execute_result"
    }
   ],
   "source": [
    "df.head()"
   ]
  },
  {
   "cell_type": "code",
   "execution_count": 91,
   "metadata": {},
   "outputs": [
    {
     "data": {
      "text/html": [
       "<div>\n",
       "<style scoped>\n",
       "    .dataframe tbody tr th:only-of-type {\n",
       "        vertical-align: middle;\n",
       "    }\n",
       "\n",
       "    .dataframe tbody tr th {\n",
       "        vertical-align: top;\n",
       "    }\n",
       "\n",
       "    .dataframe thead th {\n",
       "        text-align: right;\n",
       "    }\n",
       "</style>\n",
       "<table border=\"1\" class=\"dataframe\">\n",
       "  <thead>\n",
       "    <tr style=\"text-align: right;\">\n",
       "      <th></th>\n",
       "      <th>city</th>\n",
       "      <th>state</th>\n",
       "      <th>country</th>\n",
       "      <th>phone</th>\n",
       "    </tr>\n",
       "  </thead>\n",
       "  <tbody>\n",
       "    <tr>\n",
       "      <th>1</th>\n",
       "      <td>Las Vegas</td>\n",
       "      <td>NV</td>\n",
       "      <td>USA</td>\n",
       "      <td>7025551838</td>\n",
       "    </tr>\n",
       "  </tbody>\n",
       "</table>\n",
       "</div>"
      ],
      "text/plain": [
       "        city state country       phone\n",
       "1  Las Vegas    NV     USA  7025551838"
      ]
     },
     "execution_count": 91,
     "metadata": {},
     "output_type": "execute_result"
    }
   ],
   "source": [
    "# Select all rows from df with city=Las vegas\n",
    "df[df[\"city\"]==\"Las Vegas\"]"
   ]
  },
  {
   "cell_type": "code",
   "execution_count": 92,
   "metadata": {},
   "outputs": [
    {
     "data": {
      "text/html": [
       "<div>\n",
       "<style scoped>\n",
       "    .dataframe tbody tr th:only-of-type {\n",
       "        vertical-align: middle;\n",
       "    }\n",
       "\n",
       "    .dataframe tbody tr th {\n",
       "        vertical-align: top;\n",
       "    }\n",
       "\n",
       "    .dataframe thead th {\n",
       "        text-align: right;\n",
       "    }\n",
       "</style>\n",
       "<table border=\"1\" class=\"dataframe\">\n",
       "  <thead>\n",
       "    <tr style=\"text-align: right;\">\n",
       "      <th></th>\n",
       "      <th>city</th>\n",
       "      <th>state</th>\n",
       "      <th>country</th>\n",
       "      <th>phone</th>\n",
       "    </tr>\n",
       "  </thead>\n",
       "  <tbody>\n",
       "    <tr>\n",
       "      <th>1</th>\n",
       "      <td>Las Vegas</td>\n",
       "      <td>NV</td>\n",
       "      <td>USA</td>\n",
       "      <td>7025551838</td>\n",
       "    </tr>\n",
       "    <tr>\n",
       "      <th>5</th>\n",
       "      <td>San Rafael</td>\n",
       "      <td>CA</td>\n",
       "      <td>USA</td>\n",
       "      <td>4155551450</td>\n",
       "    </tr>\n",
       "    <tr>\n",
       "      <th>8</th>\n",
       "      <td>San Francisco</td>\n",
       "      <td>CA</td>\n",
       "      <td>USA</td>\n",
       "      <td>6505555787</td>\n",
       "    </tr>\n",
       "    <tr>\n",
       "      <th>9</th>\n",
       "      <td>NYC</td>\n",
       "      <td>NY</td>\n",
       "      <td>USA</td>\n",
       "      <td>2125557818</td>\n",
       "    </tr>\n",
       "    <tr>\n",
       "      <th>15</th>\n",
       "      <td>NYC</td>\n",
       "      <td>NY</td>\n",
       "      <td>USA</td>\n",
       "      <td>2125557413</td>\n",
       "    </tr>\n",
       "    <tr>\n",
       "      <th>16</th>\n",
       "      <td>Allentown</td>\n",
       "      <td>PA</td>\n",
       "      <td>USA</td>\n",
       "      <td>2155551555</td>\n",
       "    </tr>\n",
       "    <tr>\n",
       "      <th>17</th>\n",
       "      <td>Burlingame</td>\n",
       "      <td>CA</td>\n",
       "      <td>USA</td>\n",
       "      <td>6505556809</td>\n",
       "    </tr>\n",
       "    <tr>\n",
       "      <th>20</th>\n",
       "      <td>New Haven</td>\n",
       "      <td>CT</td>\n",
       "      <td>USA</td>\n",
       "      <td>2035557845</td>\n",
       "    </tr>\n",
       "    <tr>\n",
       "      <th>24</th>\n",
       "      <td>Cambridge</td>\n",
       "      <td>MA</td>\n",
       "      <td>USA</td>\n",
       "      <td>6175555555</td>\n",
       "    </tr>\n",
       "    <tr>\n",
       "      <th>25</th>\n",
       "      <td>Bridgewater</td>\n",
       "      <td>CT</td>\n",
       "      <td>USA</td>\n",
       "      <td>2035552570</td>\n",
       "    </tr>\n",
       "    <tr>\n",
       "      <th>27</th>\n",
       "      <td>NYC</td>\n",
       "      <td>NY</td>\n",
       "      <td>USA</td>\n",
       "      <td>2125551500</td>\n",
       "    </tr>\n",
       "    <tr>\n",
       "      <th>31</th>\n",
       "      <td>Brickhaven</td>\n",
       "      <td>MA</td>\n",
       "      <td>USA</td>\n",
       "      <td>6175558428</td>\n",
       "    </tr>\n",
       "    <tr>\n",
       "      <th>34</th>\n",
       "      <td>Brickhaven</td>\n",
       "      <td>MA</td>\n",
       "      <td>USA</td>\n",
       "      <td>6175557555</td>\n",
       "    </tr>\n",
       "    <tr>\n",
       "      <th>35</th>\n",
       "      <td>Pasadena</td>\n",
       "      <td>CA</td>\n",
       "      <td>USA</td>\n",
       "      <td>6265557265</td>\n",
       "    </tr>\n",
       "    <tr>\n",
       "      <th>40</th>\n",
       "      <td>Glendale</td>\n",
       "      <td>CA</td>\n",
       "      <td>USA</td>\n",
       "      <td>3105552373</td>\n",
       "    </tr>\n",
       "    <tr>\n",
       "      <th>45</th>\n",
       "      <td>San Diego</td>\n",
       "      <td>CA</td>\n",
       "      <td>USA</td>\n",
       "      <td>7605558146</td>\n",
       "    </tr>\n",
       "    <tr>\n",
       "      <th>58</th>\n",
       "      <td>Cambridge</td>\n",
       "      <td>MA</td>\n",
       "      <td>USA</td>\n",
       "      <td>6175558555</td>\n",
       "    </tr>\n",
       "    <tr>\n",
       "      <th>66</th>\n",
       "      <td>White Plains</td>\n",
       "      <td>NY</td>\n",
       "      <td>USA</td>\n",
       "      <td>9145554562</td>\n",
       "    </tr>\n",
       "    <tr>\n",
       "      <th>67</th>\n",
       "      <td>New Bedford</td>\n",
       "      <td>MA</td>\n",
       "      <td>USA</td>\n",
       "      <td>5085559555</td>\n",
       "    </tr>\n",
       "    <tr>\n",
       "      <th>68</th>\n",
       "      <td>San Francisco</td>\n",
       "      <td>CA</td>\n",
       "      <td>USA</td>\n",
       "      <td>6505551386</td>\n",
       "    </tr>\n",
       "    <tr>\n",
       "      <th>71</th>\n",
       "      <td>Newark</td>\n",
       "      <td>NJ</td>\n",
       "      <td>USA</td>\n",
       "      <td>2015559350</td>\n",
       "    </tr>\n",
       "    <tr>\n",
       "      <th>75</th>\n",
       "      <td>Philadelphia</td>\n",
       "      <td>PA</td>\n",
       "      <td>USA</td>\n",
       "      <td>2155554695</td>\n",
       "    </tr>\n",
       "    <tr>\n",
       "      <th>77</th>\n",
       "      <td>Los Angeles</td>\n",
       "      <td>CA</td>\n",
       "      <td>USA</td>\n",
       "      <td>2155554369</td>\n",
       "    </tr>\n",
       "    <tr>\n",
       "      <th>84</th>\n",
       "      <td>Boston</td>\n",
       "      <td>MA</td>\n",
       "      <td>USA</td>\n",
       "      <td>6175559555</td>\n",
       "    </tr>\n",
       "    <tr>\n",
       "      <th>85</th>\n",
       "      <td>Nashua</td>\n",
       "      <td>NH</td>\n",
       "      <td>USA</td>\n",
       "      <td>6035558647</td>\n",
       "    </tr>\n",
       "    <tr>\n",
       "      <th>88</th>\n",
       "      <td>Brickhaven</td>\n",
       "      <td>MA</td>\n",
       "      <td>USA</td>\n",
       "      <td>6175558555</td>\n",
       "    </tr>\n",
       "    <tr>\n",
       "      <th>98</th>\n",
       "      <td>NYC</td>\n",
       "      <td>NY</td>\n",
       "      <td>USA</td>\n",
       "      <td>2125558493</td>\n",
       "    </tr>\n",
       "    <tr>\n",
       "      <th>100</th>\n",
       "      <td>Glendale</td>\n",
       "      <td>CT</td>\n",
       "      <td>USA</td>\n",
       "      <td>2035554407</td>\n",
       "    </tr>\n",
       "    <tr>\n",
       "      <th>102</th>\n",
       "      <td>San Jose</td>\n",
       "      <td>CA</td>\n",
       "      <td>USA</td>\n",
       "      <td>4085553659</td>\n",
       "    </tr>\n",
       "    <tr>\n",
       "      <th>104</th>\n",
       "      <td>New Haven</td>\n",
       "      <td>CT</td>\n",
       "      <td>USA</td>\n",
       "      <td>2035559545</td>\n",
       "    </tr>\n",
       "    <tr>\n",
       "      <th>105</th>\n",
       "      <td>NYC</td>\n",
       "      <td>NY</td>\n",
       "      <td>USA</td>\n",
       "      <td>2125551957</td>\n",
       "    </tr>\n",
       "    <tr>\n",
       "      <th>108</th>\n",
       "      <td>New Bedford</td>\n",
       "      <td>MA</td>\n",
       "      <td>USA</td>\n",
       "      <td>5085552555</td>\n",
       "    </tr>\n",
       "    <tr>\n",
       "      <th>112</th>\n",
       "      <td>Burbank</td>\n",
       "      <td>CA</td>\n",
       "      <td>USA</td>\n",
       "      <td>3105553722</td>\n",
       "    </tr>\n",
       "    <tr>\n",
       "      <th>117</th>\n",
       "      <td>Philadelphia</td>\n",
       "      <td>PA</td>\n",
       "      <td>USA</td>\n",
       "      <td>2155559857</td>\n",
       "    </tr>\n",
       "    <tr>\n",
       "      <th>118</th>\n",
       "      <td>Brisbane</td>\n",
       "      <td>CA</td>\n",
       "      <td>USA</td>\n",
       "      <td>4155554312</td>\n",
       "    </tr>\n",
       "    <tr>\n",
       "      <th>120</th>\n",
       "      <td>Boston</td>\n",
       "      <td>MA</td>\n",
       "      <td>USA</td>\n",
       "      <td>6175552555</td>\n",
       "    </tr>\n",
       "  </tbody>\n",
       "</table>\n",
       "</div>"
      ],
      "text/plain": [
       "              city state country       phone\n",
       "1        Las Vegas    NV     USA  7025551838\n",
       "5       San Rafael    CA     USA  4155551450\n",
       "8    San Francisco    CA     USA  6505555787\n",
       "9              NYC    NY     USA  2125557818\n",
       "15             NYC    NY     USA  2125557413\n",
       "16       Allentown    PA     USA  2155551555\n",
       "17      Burlingame    CA     USA  6505556809\n",
       "20       New Haven    CT     USA  2035557845\n",
       "24       Cambridge    MA     USA  6175555555\n",
       "25     Bridgewater    CT     USA  2035552570\n",
       "27             NYC    NY     USA  2125551500\n",
       "31      Brickhaven    MA     USA  6175558428\n",
       "34      Brickhaven    MA     USA  6175557555\n",
       "35        Pasadena    CA     USA  6265557265\n",
       "40        Glendale    CA     USA  3105552373\n",
       "45       San Diego    CA     USA  7605558146\n",
       "58       Cambridge    MA     USA  6175558555\n",
       "66    White Plains    NY     USA  9145554562\n",
       "67     New Bedford    MA     USA  5085559555\n",
       "68   San Francisco    CA     USA  6505551386\n",
       "71          Newark    NJ     USA  2015559350\n",
       "75    Philadelphia    PA     USA  2155554695\n",
       "77     Los Angeles    CA     USA  2155554369\n",
       "84          Boston    MA     USA  6175559555\n",
       "85          Nashua    NH     USA  6035558647\n",
       "88      Brickhaven    MA     USA  6175558555\n",
       "98             NYC    NY     USA  2125558493\n",
       "100       Glendale    CT     USA  2035554407\n",
       "102       San Jose    CA     USA  4085553659\n",
       "104      New Haven    CT     USA  2035559545\n",
       "105            NYC    NY     USA  2125551957\n",
       "108    New Bedford    MA     USA  5085552555\n",
       "112        Burbank    CA     USA  3105553722\n",
       "117   Philadelphia    PA     USA  2155559857\n",
       "118       Brisbane    CA     USA  4155554312\n",
       "120         Boston    MA     USA  6175552555"
      ]
     },
     "execution_count": 92,
     "metadata": {},
     "output_type": "execute_result"
    }
   ],
   "source": [
    "# Select all rows from df with country=USA\n",
    "df[df[\"country\"]==\"USA\"]"
   ]
  },
  {
   "cell_type": "markdown",
   "metadata": {},
   "source": [
    "## Conditioned queries (using WHERE clause)"
   ]
  },
  {
   "cell_type": "code",
   "execution_count": 95,
   "metadata": {},
   "outputs": [
    {
     "name": "stdout",
     "output_type": "stream",
     "text": [
      "[(112, 'Signal Gift Stores', 'King', 'Jean', '7025551838', '8489 Strong St.', None, 'Las Vegas', 'NV', '83030', 'USA', 1166, Decimal('71800.00')), (124, 'Mini Gifts Distributors Ltd.', 'Nelson', 'Susan', '4155551450', '5677 Strong St.', None, 'San Rafael', 'CA', '97562', 'USA', 1165, Decimal('210500.00')), (129, 'Mini Wheels Co.', 'Murphy', 'Julie', '6505555787', '5557 North Pendale Street', None, 'San Francisco', 'CA', '94217', 'USA', 1165, Decimal('64600.00')), (131, 'Land of Toys Inc.', 'Lee', 'Kwai', '2125557818', '897 Long Airport Avenue', None, 'NYC', 'NY', '10022', 'USA', 1323, Decimal('114900.00')), (151, 'Muscle Machine Inc', 'Young', 'Jeff', '2125557413', '4092 Furth Circle', 'Suite 400', 'NYC', 'NY', '10022', 'USA', 1286, Decimal('138500.00')), (157, 'Diecast Classics Inc.', 'Leong', 'Kelvin', '2155551555', '7586 Pompton St.', None, 'Allentown', 'PA', '70267', 'USA', 1216, Decimal('100600.00')), (161, 'Technics Stores Inc.', 'Hashimoto', 'Juri', '6505556809', '9408 Furth Circle', None, 'Burlingame', 'CA', '94217', 'USA', 1165, Decimal('84600.00')), (168, 'American Souvenirs Inc', 'Franco', 'Keith', '2035557845', '149 Spinnaker Dr.', 'Suite 101', 'New Haven', 'CT', '97823', 'USA', 1286, Decimal('0.00')), (173, 'Cambridge Collectables Co.', 'Tseng', 'Jerry', '6175555555', '4658 Baden Av.', None, 'Cambridge', 'MA', '51247', 'USA', 1188, Decimal('43400.00')), (175, 'Gift Depot Inc.', 'King', 'Julie', '2035552570', '25593 South Bay Ln.', None, 'Bridgewater', 'CT', '97562', 'USA', 1323, Decimal('84300.00')), (181, 'Vitachrome Inc.', 'Frick', 'Michael', '2125551500', '2678 Kingston Rd.', 'Suite 101', 'NYC', 'NY', '10022', 'USA', 1286, Decimal('76400.00')), (198, 'Auto-Moto Classics Inc.', 'Taylor', 'Leslie', '6175558428', '16780 Pompton St.', None, 'Brickhaven', 'MA', '58339', 'USA', 1216, Decimal('23000.00')), (204, 'Online Mini Collectables', 'Barajas', 'Miguel', '6175557555', '7635 Spinnaker Dr.', None, 'Brickhaven', 'MA', '58339', 'USA', 1188, Decimal('68700.00')), (205, 'Toys4GrownUps.com', 'Young', 'Julie', '6265557265', '78934 Hillside Dr.', None, 'Pasadena', 'CA', '90003', 'USA', 1166, Decimal('90700.00')), (219, 'Boards & Toys Co.', 'Young', 'Mary', '3105552373', '4097 Douglas Av.', None, 'Glendale', 'CA', '92561', 'USA', 1166, Decimal('11000.00')), (239, 'Collectable Mini Designs Co.', 'Thompson', 'Valarie', '7605558146', '361 Furth Circle', None, 'San Diego', 'CA', '91217', 'USA', 1166, Decimal('105000.00')), (286, \"Marta's Replicas Co.\", 'Hernandez', 'Marta', '6175558555', '39323 Spinnaker Dr.', None, 'Cambridge', 'MA', '51247', 'USA', 1216, Decimal('123700.00')), (319, 'Mini Classics', 'Frick', 'Steve', '9145554562', '3758 North Pendale Street', None, 'White Plains', 'NY', '24067', 'USA', 1323, Decimal('102700.00')), (320, 'Mini Creations Ltd.', 'Huang', 'Wing', '5085559555', '4575 Hillside Dr.', None, 'New Bedford', 'MA', '50553', 'USA', 1188, Decimal('94500.00')), (321, 'Corporate Gift Ideas Co.', 'Brown', 'Julie', '6505551386', '7734 Strong St.', None, 'San Francisco', 'CA', '94217', 'USA', 1165, Decimal('105000.00')), (328, 'Tekni Collectables Inc.', 'Brown', 'William', '2015559350', '7476 Moss Rd.', None, 'Newark', 'NJ', '94019', 'USA', 1323, Decimal('43000.00')), (339, 'Classic Gift Ideas, Inc', 'Cervantes', 'Francisca', '2155554695', '782 First Street', None, 'Philadelphia', 'PA', '71270', 'USA', 1188, Decimal('81100.00')), (347, \"Men 'R' US Retailers, Ltd.\", 'Chandler', 'Brian', '2155554369', '6047 Douglas Av.', None, 'Los Angeles', 'CA', '91003', 'USA', 1166, Decimal('57700.00')), (362, 'Gifts4AllAges.com', 'Yoshido', 'Juri', '6175559555', '8616 Spinnaker Dr.', None, 'Boston', 'MA', '51003', 'USA', 1216, Decimal('41900.00')), (363, 'Online Diecast Creations Co.', 'Young', 'Dorothy', '6035558647', '2304 Long Airport Avenue', None, 'Nashua', 'NH', '62005', 'USA', 1216, Decimal('114200.00')), (379, 'Collectables For Less Inc.', 'Nelson', 'Allen', '6175558555', '7825 Douglas Av.', None, 'Brickhaven', 'MA', '58339', 'USA', 1188, Decimal('70700.00')), (424, 'Classic Legends Inc.', 'Hernandez', 'Maria', '2125558493', '5905 Pompton St.', 'Suite 750', 'NYC', 'NY', '10022', 'USA', 1286, Decimal('67500.00')), (447, 'Gift Ideas Corp.', 'Lewis', 'Dan', '2035554407', '2440 Pompton St.', None, 'Glendale', 'CT', '97561', 'USA', 1323, Decimal('49700.00')), (450, 'The Sharp Gifts Warehouse', 'Frick', 'Sue', '4085553659', '3086 Ingle Ln.', None, 'San Jose', 'CA', '94217', 'USA', 1165, Decimal('77600.00')), (455, 'Super Scale Inc.', 'Murphy', 'Leslie', '2035559545', '567 North Pendale Street', None, 'New Haven', 'CT', '97823', 'USA', 1286, Decimal('95400.00')), (456, 'Microscale Inc.', 'Choi', 'Yu', '2125551957', '5290 North Pendale Street', 'Suite 200', 'NYC', 'NY', '10022', 'USA', 1286, Decimal('39800.00')), (462, 'FunGiftIdeas.com', 'Benitez', 'Violeta', '5085552555', '1785 First Street', None, 'New Bedford', 'MA', '50553', 'USA', 1216, Decimal('85800.00')), (475, 'West Coast Collectables Co.', 'Thompson', 'Steve', '3105553722', '3675 Furth Circle', None, 'Burbank', 'CA', '94019', 'USA', 1166, Decimal('55400.00')), (486, 'Motor Mint Distributors Inc.', 'Salazar', 'Rosa', '2155559857', '11328 Douglas Av.', None, 'Philadelphia', 'PA', '71270', 'USA', 1323, Decimal('72600.00')), (487, 'Signal Collectibles Ltd.', 'Taylor', 'Sue', '4155554312', '2793 Furth Circle', None, 'Brisbane', 'CA', '94217', 'USA', 1165, Decimal('60300.00')), (495, 'Diecast Collectables', 'Franco', 'Valarie', '6175552555', '6251 Ingle Ln.', None, 'Boston', 'MA', '51003', 'USA', 1188, Decimal('85100.00'))]\n"
     ]
    }
   ],
   "source": [
    "query=\"SELECT * FROM customers WHERE country='USA';\"\n",
    "mycursor.execute(query)\n",
    "print(mycursor.fetchall())"
   ]
  },
  {
   "cell_type": "markdown",
   "metadata": {},
   "source": [
    "### Using operators"
   ]
  },
  {
   "cell_type": "code",
   "execution_count": 124,
   "metadata": {},
   "outputs": [
    {
     "name": "stdout",
     "output_type": "stream",
     "text": [
      "[('buyPrice',), ('MSRP',), ('productCode',), ('productDescription',), ('productLine',), ('productName',), ('productScale',), ('productVendor',), ('quantityInStock',)]\n"
     ]
    }
   ],
   "source": [
    "# First let's check column names of products table\n",
    "query=\"SELECT column_name FROM information_schema.columns WHERE table_name='products';\"\n",
    "mycursor.execute(query)\n",
    "print(mycursor.fetchall())"
   ]
  },
  {
   "cell_type": "code",
   "execution_count": 125,
   "metadata": {},
   "outputs": [
    {
     "name": "stdout",
     "output_type": "stream",
     "text": [
      "[('S10_1949', Decimal('98.58')), ('S10_4698', Decimal('91.02')), ('S10_4757', Decimal('85.68')), ('S10_4962', Decimal('103.42')), ('S12_1099', Decimal('95.34')), ('S12_1108', Decimal('95.59')), ('S12_3148', Decimal('89.14')), ('S12_3891', Decimal('83.05')), ('S18_1129', Decimal('83.51')), ('S18_1749', Decimal('86.70')), ('S18_1984', Decimal('93.89')), ('S18_2238', Decimal('101.51')), ('S18_4027', Decimal('91.92')), ('S18_4600', Decimal('84.76')), ('S24_2011', Decimal('82.34')), ('S24_3856', Decimal('98.30'))]\n"
     ]
    }
   ],
   "source": [
    "query=\"SELECT productCode, buyPrice FROM products WHERE buyprice >= 80;\"\n",
    "mycursor.execute(query)\n",
    "print(mycursor.fetchall())"
   ]
  },
  {
   "cell_type": "markdown",
   "metadata": {},
   "source": [
    "Statement \"equal\" is unusual from the perspective of programming"
   ]
  },
  {
   "cell_type": "code",
   "execution_count": 127,
   "metadata": {},
   "outputs": [
    {
     "name": "stdout",
     "output_type": "stream",
     "text": [
      "[('S10_4698', Decimal('91.02'))]\n"
     ]
    }
   ],
   "source": [
    "query=\"SELECT productCode, buyPrice FROM products WHERE buyprice = 91.02;\"\n",
    "mycursor.execute(query)\n",
    "print(mycursor.fetchall())"
   ]
  },
  {
   "cell_type": "markdown",
   "metadata": {},
   "source": [
    "A similar thing happens with not equal"
   ]
  },
  {
   "cell_type": "code",
   "execution_count": 27,
   "metadata": {},
   "outputs": [
    {
     "name": "stdout",
     "output_type": "stream",
     "text": [
      "[('S10_1678', Decimal('48.81')), ('S10_1949', Decimal('98.58')), ('S10_2016', Decimal('68.99')), ('S10_4757', Decimal('85.68')), ('S10_4962', Decimal('103.42')), ('S12_1099', Decimal('95.34')), ('S12_1108', Decimal('95.59')), ('S12_1666', Decimal('77.90')), ('S12_2823', Decimal('66.27')), ('S12_3148', Decimal('89.14')), ('S12_3380', Decimal('75.16')), ('S12_3891', Decimal('83.05')), ('S12_3990', Decimal('31.92')), ('S12_4473', Decimal('55.70')), ('S12_4675', Decimal('58.73')), ('S18_1097', Decimal('58.33')), ('S18_1129', Decimal('83.51')), ('S18_1342', Decimal('60.62')), ('S18_1367', Decimal('24.26')), ('S18_1589', Decimal('65.96')), ('S18_1662', Decimal('77.27')), ('S18_1749', Decimal('86.70')), ('S18_1889', Decimal('53.90')), ('S18_1984', Decimal('93.89')), ('S18_2238', Decimal('101.51')), ('S18_2248', Decimal('33.30')), ('S18_2319', Decimal('74.86')), ('S18_2325', Decimal('58.48')), ('S18_2432', Decimal('24.92')), ('S18_2581', Decimal('49.00')), ('S18_2625', Decimal('24.23')), ('S18_2795', Decimal('72.56')), ('S18_2870', Decimal('56.76')), ('S18_2949', Decimal('60.78')), ('S18_2957', Decimal('34.35')), ('S18_3029', Decimal('51.61')), ('S18_3136', Decimal('60.74')), ('S18_3140', Decimal('68.30')), ('S18_3232', Decimal('77.90')), ('S18_3233', Decimal('57.01')), ('S18_3259', Decimal('67.56')), ('S18_3278', Decimal('49.05')), ('S18_3320', Decimal('57.54')), ('S18_3482', Decimal('73.49')), ('S18_3685', Decimal('62.16')), ('S18_3782', Decimal('32.95')), ('S18_3856', Decimal('64.58')), ('S18_4027', Decimal('91.92')), ('S18_4409', Decimal('43.26')), ('S18_4522', Decimal('52.66')), ('S18_4600', Decimal('84.76')), ('S18_4668', Decimal('23.14')), ('S18_4721', Decimal('69.93')), ('S18_4933', Decimal('34.21')), ('S24_1046', Decimal('49.24')), ('S24_1444', Decimal('32.37')), ('S24_1578', Decimal('60.86')), ('S24_1628', Decimal('29.18')), ('S24_1785', Decimal('66.74')), ('S24_1937', Decimal('22.57')), ('S24_2000', Decimal('37.32')), ('S24_2011', Decimal('82.34')), ('S24_2022', Decimal('20.61')), ('S24_2300', Decimal('61.34')), ('S24_2360', Decimal('47.10')), ('S24_2766', Decimal('47.25')), ('S24_2840', Decimal('15.91')), ('S24_2841', Decimal('34.25')), ('S24_2887', Decimal('72.82')), ('S24_2972', Decimal('16.24')), ('S24_3151', Decimal('46.91')), ('S24_3191', Decimal('50.51')), ('S24_3371', Decimal('38.58')), ('S24_3420', Decimal('26.30')), ('S24_3432', Decimal('62.11')), ('S24_3816', Decimal('48.64')), ('S24_3856', Decimal('98.30')), ('S24_3949', Decimal('29.34')), ('S24_3969', Decimal('21.75')), ('S24_4048', Decimal('69.78')), ('S24_4258', Decimal('57.46')), ('S24_4278', Decimal('36.23')), ('S24_4620', Decimal('32.33')), ('S32_1268', Decimal('53.93')), ('S32_1374', Decimal('66.92')), ('S32_2206', Decimal('24.14')), ('S32_2509', Decimal('25.98')), ('S32_3207', Decimal('26.72')), ('S32_3522', Decimal('33.61')), ('S32_4289', Decimal('33.02')), ('S32_4485', Decimal('56.13')), ('S50_1341', Decimal('27.06')), ('S50_1392', Decimal('68.29')), ('S50_1514', Decimal('37.49')), ('S50_4713', Decimal('34.17')), ('S700_1138', Decimal('34.00')), ('S700_1691', Decimal('51.15')), ('S700_1938', Decimal('43.30')), ('S700_2047', Decimal('39.83')), ('S700_2466', Decimal('68.80')), ('S700_2610', Decimal('33.97')), ('S700_2824', Decimal('46.53')), ('S700_2834', Decimal('59.33')), ('S700_3167', Decimal('54.40')), ('S700_3505', Decimal('51.09')), ('S700_3962', Decimal('53.63')), ('S700_4002', Decimal('36.27')), ('S72_1253', Decimal('32.77')), ('S72_3212', Decimal('33.30'))]\n"
     ]
    }
   ],
   "source": [
    "query=\"SELECT productCode, buyPrice FROM products WHERE buyprice <> 91.02;\"\n",
    "mycursor.execute(query)\n",
    "output=mycursor.fetchall()\n",
    "print(output)"
   ]
  },
  {
   "cell_type": "markdown",
   "metadata": {},
   "source": [
    "### Checking DataFrame with Decimal"
   ]
  },
  {
   "cell_type": "code",
   "execution_count": 28,
   "metadata": {},
   "outputs": [],
   "source": [
    "import pandas as pd\n",
    "df=pd.DataFrame(output,columns=[\"productCode\",\"buyPrice\"])"
   ]
  },
  {
   "cell_type": "code",
   "execution_count": 34,
   "metadata": {},
   "outputs": [
    {
     "data": {
      "text/html": [
       "<div>\n",
       "<style scoped>\n",
       "    .dataframe tbody tr th:only-of-type {\n",
       "        vertical-align: middle;\n",
       "    }\n",
       "\n",
       "    .dataframe tbody tr th {\n",
       "        vertical-align: top;\n",
       "    }\n",
       "\n",
       "    .dataframe thead th {\n",
       "        text-align: right;\n",
       "    }\n",
       "</style>\n",
       "<table border=\"1\" class=\"dataframe\">\n",
       "  <thead>\n",
       "    <tr style=\"text-align: right;\">\n",
       "      <th></th>\n",
       "      <th>productCode</th>\n",
       "      <th>buyPrice</th>\n",
       "    </tr>\n",
       "  </thead>\n",
       "  <tbody>\n",
       "    <tr>\n",
       "      <th>0</th>\n",
       "      <td>S10_1678</td>\n",
       "      <td>48.81</td>\n",
       "    </tr>\n",
       "    <tr>\n",
       "      <th>1</th>\n",
       "      <td>S10_1949</td>\n",
       "      <td>98.58</td>\n",
       "    </tr>\n",
       "    <tr>\n",
       "      <th>2</th>\n",
       "      <td>S10_2016</td>\n",
       "      <td>68.99</td>\n",
       "    </tr>\n",
       "    <tr>\n",
       "      <th>3</th>\n",
       "      <td>S10_4757</td>\n",
       "      <td>85.68</td>\n",
       "    </tr>\n",
       "    <tr>\n",
       "      <th>4</th>\n",
       "      <td>S10_4962</td>\n",
       "      <td>103.42</td>\n",
       "    </tr>\n",
       "  </tbody>\n",
       "</table>\n",
       "</div>"
      ],
      "text/plain": [
       "  productCode buyPrice\n",
       "0    S10_1678    48.81\n",
       "1    S10_1949    98.58\n",
       "2    S10_2016    68.99\n",
       "3    S10_4757    85.68\n",
       "4    S10_4962   103.42"
      ]
     },
     "execution_count": 34,
     "metadata": {},
     "output_type": "execute_result"
    }
   ],
   "source": [
    "# It works smoothly with pandas\n",
    "df.head()"
   ]
  },
  {
   "cell_type": "markdown",
   "metadata": {},
   "source": [
    "### AND, OR and NOT operators"
   ]
  },
  {
   "cell_type": "markdown",
   "metadata": {},
   "source": [
    "Now using a little bit more SQL good practiced queries"
   ]
  },
  {
   "cell_type": "markdown",
   "metadata": {},
   "source": [
    "Using __AND__"
   ]
  },
  {
   "cell_type": "code",
   "execution_count": 36,
   "metadata": {},
   "outputs": [
    {
     "name": "stdout",
     "output_type": "stream",
     "text": [
      "[(307, 'Der Hund Imports', 'Andersen', 'Mel', '030-0074555', 'Obere Str. 57', None, 'Berlin', None, '12209', 'Germany', None, Decimal('0.00'))]\n"
     ]
    }
   ],
   "source": [
    "query=\"\"\"SELECT * FROM customers\n",
    "WHERE country= 'Germany' AND city= 'Berlin';\"\"\"\n",
    "mycursor.execute(query)\n",
    "output=mycursor.fetchall()\n",
    "print(output)"
   ]
  },
  {
   "cell_type": "markdown",
   "metadata": {},
   "source": [
    "Using __OR__"
   ]
  },
  {
   "cell_type": "code",
   "execution_count": 37,
   "metadata": {},
   "outputs": [
    {
     "name": "stdout",
     "output_type": "stream",
     "text": [
      "[(307, 'Der Hund Imports', 'Andersen', 'Mel', '030-0074555', 'Obere Str. 57', None, 'Berlin', None, '12209', 'Germany', None, Decimal('0.00'))]\n"
     ]
    }
   ],
   "source": [
    "query=\"\"\"SELECT * FROM customers\n",
    "WHERE city= 'Berlin' OR city= 'Stutgart';\"\"\"\n",
    "mycursor.execute(query)\n",
    "output=mycursor.fetchall()\n",
    "print(output)"
   ]
  },
  {
   "cell_type": "markdown",
   "metadata": {},
   "source": [
    "Using __NOT__"
   ]
  },
  {
   "cell_type": "code",
   "execution_count": 38,
   "metadata": {},
   "outputs": [
    {
     "name": "stdout",
     "output_type": "stream",
     "text": [
      "[(103, 'Atelier graphique', 'Schmitt', 'Carine ', '40.32.2555', '54, rue Royale', None, 'Nantes', None, '44000', 'France', 1370, Decimal('21000.00')), (112, 'Signal Gift Stores', 'King', 'Jean', '7025551838', '8489 Strong St.', None, 'Las Vegas', 'NV', '83030', 'USA', 1166, Decimal('71800.00')), (114, 'Australian Collectors, Co.', 'Ferguson', 'Peter', '03 9520 4555', '636 St Kilda Road', 'Level 3', 'Melbourne', 'Victoria', '3004', 'Australia', 1611, Decimal('117300.00')), (119, 'La Rochelle Gifts', 'Labrune', 'Janine ', '40.67.8555', '67, rue des Cinquante Otages', None, 'Nantes', None, '44000', 'France', 1370, Decimal('118200.00')), (121, 'Baane Mini Imports', 'Bergulfsen', 'Jonas ', '07-98 9555', 'Erling Skakkes gate 78', None, 'Stavern', None, '4110', 'Norway', 1504, Decimal('81700.00')), (124, 'Mini Gifts Distributors Ltd.', 'Nelson', 'Susan', '4155551450', '5677 Strong St.', None, 'San Rafael', 'CA', '97562', 'USA', 1165, Decimal('210500.00')), (125, 'Havel & Zbyszek Co', 'Piestrzeniewicz', 'Zbyszek ', '(26) 642-7555', 'ul. Filtrowa 68', None, 'Warszawa', None, '01-012', 'Poland', None, Decimal('0.00')), (129, 'Mini Wheels Co.', 'Murphy', 'Julie', '6505555787', '5557 North Pendale Street', None, 'San Francisco', 'CA', '94217', 'USA', 1165, Decimal('64600.00')), (131, 'Land of Toys Inc.', 'Lee', 'Kwai', '2125557818', '897 Long Airport Avenue', None, 'NYC', 'NY', '10022', 'USA', 1323, Decimal('114900.00')), (141, 'Euro+ Shopping Channel', 'Freyre', 'Diego ', '(91) 555 94 44', 'C/ Moralzarzal, 86', None, 'Madrid', None, '28034', 'Spain', 1370, Decimal('227600.00')), (144, 'Volvo Model Replicas, Co', 'Berglund', 'Christina ', '0921-12 3555', 'Berguvsvägen  8', None, 'Luleå', None, 'S-958 22', 'Sweden', 1504, Decimal('53100.00')), (145, 'Danish Wholesale Imports', 'Petersen', 'Jytte ', '31 12 3555', 'Vinbæltet 34', None, 'Kobenhavn', None, '1734', 'Denmark', 1401, Decimal('83400.00')), (146, 'Saveley & Henriot, Co.', 'Saveley', 'Mary ', '78.32.5555', '2, rue du Commerce', None, 'Lyon', None, '69004', 'France', 1337, Decimal('123900.00')), (148, 'Dragon Souveniers, Ltd.', 'Natividad', 'Eric', '+65 221 7555', 'Bronz Sok.', 'Bronz Apt. 3/6 Tesvikiye', 'Singapore', None, '079903', 'Singapore', 1621, Decimal('103800.00')), (151, 'Muscle Machine Inc', 'Young', 'Jeff', '2125557413', '4092 Furth Circle', 'Suite 400', 'NYC', 'NY', '10022', 'USA', 1286, Decimal('138500.00')), (157, 'Diecast Classics Inc.', 'Leong', 'Kelvin', '2155551555', '7586 Pompton St.', None, 'Allentown', 'PA', '70267', 'USA', 1216, Decimal('100600.00')), (161, 'Technics Stores Inc.', 'Hashimoto', 'Juri', '6505556809', '9408 Furth Circle', None, 'Burlingame', 'CA', '94217', 'USA', 1165, Decimal('84600.00')), (166, 'Handji Gifts& Co', 'Victorino', 'Wendy', '+65 224 1555', '106 Linden Road Sandown', '2nd Floor', 'Singapore', None, '069045', 'Singapore', 1612, Decimal('97900.00')), (167, 'Herkku Gifts', 'Oeztan', 'Veysel', '+47 2267 3215', 'Brehmen St. 121', 'PR 334 Sentrum', 'Bergen', None, 'N 5804', 'Norway  ', 1504, Decimal('96800.00')), (168, 'American Souvenirs Inc', 'Franco', 'Keith', '2035557845', '149 Spinnaker Dr.', 'Suite 101', 'New Haven', 'CT', '97823', 'USA', 1286, Decimal('0.00')), (169, 'Porto Imports Co.', 'de Castro', 'Isabel ', '(1) 356-5555', 'Estrada da saúde n. 58', None, 'Lisboa', None, '1756', 'Portugal', None, Decimal('0.00')), (171, 'Daedalus Designs Imports', 'Rancé', 'Martine ', '20.16.1555', '184, chaussée de Tournai', None, 'Lille', None, '59000', 'France', 1370, Decimal('82900.00')), (172, \"La Corne D'abondance, Co.\", 'Bertrand', 'Marie', '(1) 42.34.2555', '265, boulevard Charonne', None, 'Paris', None, '75012', 'France', 1337, Decimal('84300.00')), (173, 'Cambridge Collectables Co.', 'Tseng', 'Jerry', '6175555555', '4658 Baden Av.', None, 'Cambridge', 'MA', '51247', 'USA', 1188, Decimal('43400.00')), (175, 'Gift Depot Inc.', 'King', 'Julie', '2035552570', '25593 South Bay Ln.', None, 'Bridgewater', 'CT', '97562', 'USA', 1323, Decimal('84300.00')), (177, 'Osaka Souveniers Co.', 'Kentary', 'Mory', '+81 06 6342 5555', '1-6-20 Dojima', None, 'Kita-ku', 'Osaka', ' 530-0003', 'Japan', 1621, Decimal('81200.00')), (181, 'Vitachrome Inc.', 'Frick', 'Michael', '2125551500', '2678 Kingston Rd.', 'Suite 101', 'NYC', 'NY', '10022', 'USA', 1286, Decimal('76400.00')), (186, 'Toys of Finland, Co.', 'Karttunen', 'Matti', '90-224 8555', 'Keskuskatu 45', None, 'Helsinki', None, '21240', 'Finland', 1501, Decimal('96500.00')), (187, 'AV Stores, Co.', 'Ashworth', 'Rachel', '(171) 555-1555', 'Fauntleroy Circus', None, 'Manchester', None, 'EC2 5NT', 'UK', 1501, Decimal('136800.00')), (189, 'Clover Collections, Co.', 'Cassidy', 'Dean', '+353 1862 1555', '25 Maiden Lane', 'Floor No. 4', 'Dublin', None, '2', 'Ireland', 1504, Decimal('69400.00')), (198, 'Auto-Moto Classics Inc.', 'Taylor', 'Leslie', '6175558428', '16780 Pompton St.', None, 'Brickhaven', 'MA', '58339', 'USA', 1216, Decimal('23000.00')), (201, 'UK Collectables, Ltd.', 'Devon', 'Elizabeth', '(171) 555-2282', '12, Berkeley Gardens Blvd', None, 'Liverpool', None, 'WX1 6LT', 'UK', 1501, Decimal('92700.00')), (202, 'Canadian Gift Exchange Network', 'Tamuri', 'Yoshi ', '(604) 555-3392', '1900 Oak St.', None, 'Vancouver', 'BC', 'V3F 2K1', 'Canada', 1323, Decimal('90300.00')), (204, 'Online Mini Collectables', 'Barajas', 'Miguel', '6175557555', '7635 Spinnaker Dr.', None, 'Brickhaven', 'MA', '58339', 'USA', 1188, Decimal('68700.00')), (205, 'Toys4GrownUps.com', 'Young', 'Julie', '6265557265', '78934 Hillside Dr.', None, 'Pasadena', 'CA', '90003', 'USA', 1166, Decimal('90700.00')), (206, 'Asian Shopping Network, Co', 'Walker', 'Brydey', '+612 9411 1555', 'Suntec Tower Three', '8 Temasek', 'Singapore', None, '038988', 'Singapore', None, Decimal('0.00')), (209, 'Mini Caravy', 'Citeaux', 'Frédérique ', '88.60.1555', '24, place Kléber', None, 'Strasbourg', None, '67000', 'France', 1370, Decimal('53800.00')), (211, 'King Kong Collectables, Co.', 'Gao', 'Mike', '+852 2251 1555', 'Bank of China Tower', '1 Garden Road', 'Central Hong Kong', None, None, 'Hong Kong', 1621, Decimal('58600.00')), (216, 'Enaco Distributors', 'Saavedra', 'Eduardo ', '(93) 203 4555', 'Rambla de Cataluña, 23', None, 'Barcelona', None, '08022', 'Spain', 1702, Decimal('60300.00')), (219, 'Boards & Toys Co.', 'Young', 'Mary', '3105552373', '4097 Douglas Av.', None, 'Glendale', 'CA', '92561', 'USA', 1166, Decimal('11000.00')), (227, 'Heintze Collectables', 'Ibsen', 'Palle', '86 21 3555', 'Smagsloget 45', None, 'Århus', None, '8200', 'Denmark', 1401, Decimal('120800.00')), (233, 'Québec Home Shopping Network', 'Fresnière', 'Jean ', '(514) 555-8054', '43 rue St. Laurent', None, 'Montréal', 'Québec', 'H1J 1C3', 'Canada', 1286, Decimal('48700.00')), (237, 'ANG Resellers', 'Camino', 'Alejandra ', '(91) 745 6555', 'Gran Vía, 1', None, 'Madrid', None, '28001', 'Spain', None, Decimal('0.00')), (239, 'Collectable Mini Designs Co.', 'Thompson', 'Valarie', '7605558146', '361 Furth Circle', None, 'San Diego', 'CA', '91217', 'USA', 1166, Decimal('105000.00')), (240, 'giftsbymail.co.uk', 'Bennett', 'Helen ', '(198) 555-8888', 'Garden House', 'Crowther Way 23', 'Cowes', 'Isle of Wight', 'PO31 7PJ', 'UK', 1501, Decimal('93900.00')), (242, 'Alpha Cognac', 'Roulet', 'Annette ', '61.77.6555', '1 rue Alsace-Lorraine', None, 'Toulouse', None, '31000', 'France', 1370, Decimal('61100.00')), (249, 'Amica Models & Co.', 'Accorti', 'Paolo ', '011-4988555', 'Via Monte Bianco 34', None, 'Torino', None, '10100', 'Italy', 1401, Decimal('113000.00')), (250, 'Lyon Souveniers', 'Da Silva', 'Daniel', '+33 1 46 62 7555', '27 rue du Colonel Pierre Avia', None, 'Paris', None, '75508', 'France', 1337, Decimal('68100.00')), (256, 'Auto Associés & Cie.', 'Tonini', 'Daniel ', '30.59.8555', \"67, avenue de l'Europe\", None, 'Versailles', None, '78000', 'France', 1370, Decimal('77900.00')), (260, 'Royal Canadian Collectables, Ltd.', 'Lincoln', 'Elizabeth ', '(604) 555-4555', '23 Tsawassen Blvd.', None, 'Tsawassen', 'BC', 'T2F 8M4', 'Canada', 1323, Decimal('89600.00')), (276, \"Anna's Decorations, Ltd\", \"O'Hara\", 'Anna', '02 9936 8555', '201 Miller Street', 'Level 15', 'North Sydney', 'NSW', '2060', 'Australia', 1611, Decimal('107800.00')), (278, 'Rovelli Gifts', 'Rovelli', 'Giovanni ', '035-640555', 'Via Ludovico il Moro 22', None, 'Bergamo', None, '24100', 'Italy', 1401, Decimal('119600.00')), (282, 'Souveniers And Things Co.', 'Huxley', 'Adrian', '+61 2 9495 8555', 'Monitor Money Building', '815 Pacific Hwy', 'Chatswood', 'NSW', '2067', 'Australia', 1611, Decimal('93300.00')), (286, \"Marta's Replicas Co.\", 'Hernandez', 'Marta', '6175558555', '39323 Spinnaker Dr.', None, 'Cambridge', 'MA', '51247', 'USA', 1216, Decimal('123700.00')), (293, 'BG&E Collectables', 'Harrison', 'Ed', '+41 26 425 50 01', 'Rte des Arsenaux 41 ', None, 'Fribourg', None, '1700', 'Switzerland', None, Decimal('0.00')), (298, 'Vida Sport, Ltd', 'Holz', 'Mihael', '0897-034555', 'Grenzacherweg 237', None, 'Genève', None, '1203', 'Switzerland', 1702, Decimal('141300.00')), (299, 'Norway Gifts By Mail, Co.', 'Klaeboe', 'Jan', '+47 2212 1555', 'Drammensveien 126A', 'PB 211 Sentrum', 'Oslo', None, 'N 0106', 'Norway  ', 1504, Decimal('95100.00')), (303, 'Schuyler Imports', 'Schuyler', 'Bradley', '+31 20 491 9555', 'Kingsfordweg 151', None, 'Amsterdam', None, '1043 GR', 'Netherlands', None, Decimal('0.00')), (311, 'Oulu Toy Supplies, Inc.', 'Koskitalo', 'Pirkko', '981-443655', 'Torikatu 38', None, 'Oulu', None, '90110', 'Finland', 1501, Decimal('90500.00')), (314, 'Petit Auto', 'Dewey', 'Catherine ', '(02) 5554 67', 'Rue Joseph-Bens 532', None, 'Bruxelles', None, 'B-1180', 'Belgium', 1401, Decimal('79900.00')), (319, 'Mini Classics', 'Frick', 'Steve', '9145554562', '3758 North Pendale Street', None, 'White Plains', 'NY', '24067', 'USA', 1323, Decimal('102700.00')), (320, 'Mini Creations Ltd.', 'Huang', 'Wing', '5085559555', '4575 Hillside Dr.', None, 'New Bedford', 'MA', '50553', 'USA', 1188, Decimal('94500.00')), (321, 'Corporate Gift Ideas Co.', 'Brown', 'Julie', '6505551386', '7734 Strong St.', None, 'San Francisco', 'CA', '94217', 'USA', 1165, Decimal('105000.00')), (323, 'Down Under Souveniers, Inc', 'Graham', 'Mike', '+64 9 312 5555', '162-164 Grafton Road', 'Level 2', 'Auckland  ', None, None, 'New Zealand', 1612, Decimal('88000.00')), (324, 'Stylish Desk Decors, Co.', 'Brown', 'Ann ', '(171) 555-0297', '35 King George', None, 'London', None, 'WX3 6FW', 'UK', 1501, Decimal('77000.00')), (328, 'Tekni Collectables Inc.', 'Brown', 'William', '2015559350', '7476 Moss Rd.', None, 'Newark', 'NJ', '94019', 'USA', 1323, Decimal('43000.00')), (333, 'Australian Gift Network, Co', 'Calaghan', 'Ben', '61-7-3844-6555', '31 Duncan St. West End', None, 'South Brisbane', 'Queensland', '4101', 'Australia', 1611, Decimal('51600.00')), (334, 'Suominen Souveniers', 'Suominen', 'Kalle', '+358 9 8045 555', 'Software Engineering Center', 'SEC Oy', 'Espoo', None, 'FIN-02271', 'Finland', 1501, Decimal('98800.00')), (339, 'Classic Gift Ideas, Inc', 'Cervantes', 'Francisca', '2155554695', '782 First Street', None, 'Philadelphia', 'PA', '71270', 'USA', 1188, Decimal('81100.00')), (344, 'CAF Imports', 'Fernandez', 'Jesus', '+34 913 728 555', 'Merchants House', \"27-30 Merchant's Quay\", 'Madrid', None, '28023', 'Spain', 1702, Decimal('59600.00')), (347, \"Men 'R' US Retailers, Ltd.\", 'Chandler', 'Brian', '2155554369', '6047 Douglas Av.', None, 'Los Angeles', 'CA', '91003', 'USA', 1166, Decimal('57700.00')), (348, 'Asian Treasures, Inc.', 'McKenna', 'Patricia ', '2967 555', '8 Johnstown Road', None, 'Cork', 'Co. Cork', None, 'Ireland', None, Decimal('0.00')), (350, 'Marseille Mini Autos', 'Lebihan', 'Laurence ', '91.24.4555', '12, rue des Bouchers', None, 'Marseille', None, '13008', 'France', 1337, Decimal('65000.00')), (353, 'Reims Collectables', 'Henriot', 'Paul ', '26.47.1555', \"59 rue de l'Abbaye\", None, 'Reims', None, '51100', 'France', 1337, Decimal('81100.00')), (356, 'SAR Distributors, Co', 'Kuger', 'Armand', '+27 21 550 3555', '1250 Pretorius Street', None, 'Hatfield', 'Pretoria', '0028', 'South Africa', None, Decimal('0.00')), (357, 'GiftsForHim.com', 'MacKinlay', 'Wales', '64-9-3763555', '199 Great North Road', None, 'Auckland', None, None, 'New Zealand', 1612, Decimal('77700.00')), (362, 'Gifts4AllAges.com', 'Yoshido', 'Juri', '6175559555', '8616 Spinnaker Dr.', None, 'Boston', 'MA', '51003', 'USA', 1216, Decimal('41900.00')), (363, 'Online Diecast Creations Co.', 'Young', 'Dorothy', '6035558647', '2304 Long Airport Avenue', None, 'Nashua', 'NH', '62005', 'USA', 1216, Decimal('114200.00')), (369, 'Lisboa Souveniers, Inc', 'Rodriguez', 'Lino ', '(1) 354-2555', 'Jardim das rosas n. 32', None, 'Lisboa', None, '1675', 'Portugal', None, Decimal('0.00')), (376, 'Precious Collectables', 'Urs', 'Braun', '0452-076555', 'Hauptstr. 29', None, 'Bern', None, '3012', 'Switzerland', 1702, Decimal('0.00')), (379, 'Collectables For Less Inc.', 'Nelson', 'Allen', '6175558555', '7825 Douglas Av.', None, 'Brickhaven', 'MA', '58339', 'USA', 1188, Decimal('70700.00')), (381, 'Royale Belge', 'Cartrain', 'Pascale ', '(071) 23 67 2555', 'Boulevard Tirou, 255', None, 'Charleroi', None, 'B-6000', 'Belgium', 1401, Decimal('23500.00')), (382, 'Salzburg Collectables', 'Pipps', 'Georg ', '6562-9555', 'Geislweg 14', None, 'Salzburg', None, '5020', 'Austria', 1401, Decimal('71700.00')), (385, 'Cruz & Sons Co.', 'Cruz', 'Arnold', '+63 2 555 3587', '15 McCallum Street', 'NatWest Center #13-03', 'Makati City', None, '1227 MM', 'Philippines', 1621, Decimal('81500.00')), (386, \"L'ordine Souveniers\", 'Moroni', 'Maurizio ', '0522-556555', 'Strada Provinciale 124', None, 'Reggio Emilia', None, '42100', 'Italy', 1401, Decimal('121400.00')), (398, 'Tokyo Collectables, Ltd', 'Shimamura', 'Akiko', '+81 3 3584 0555', '2-2-8 Roppongi', None, 'Minato-ku', 'Tokyo', '106-0032', 'Japan', 1621, Decimal('94400.00')), (406, 'Auto Canal+ Petit', 'Perrier', 'Dominique', '(1) 47.55.6555', '25, rue Lauriston', None, 'Paris', None, '75016', 'France', 1337, Decimal('95000.00')), (412, 'Extreme Desk Decorations, Ltd', 'McRoy', 'Sarah', '04 499 9555', '101 Lambton Quay', 'Level 11', 'Wellington', None, None, 'New Zealand', 1612, Decimal('86800.00')), (424, 'Classic Legends Inc.', 'Hernandez', 'Maria', '2125558493', '5905 Pompton St.', 'Suite 750', 'NYC', 'NY', '10022', 'USA', 1286, Decimal('67500.00')), (447, 'Gift Ideas Corp.', 'Lewis', 'Dan', '2035554407', '2440 Pompton St.', None, 'Glendale', 'CT', '97561', 'USA', 1323, Decimal('49700.00')), (448, 'Scandinavian Gift Ideas', 'Larsson', 'Martha', '0695-34 6555', 'Åkergatan 24', None, 'Bräcke', None, 'S-844 67', 'Sweden', 1504, Decimal('116400.00')), (450, 'The Sharp Gifts Warehouse', 'Frick', 'Sue', '4085553659', '3086 Ingle Ln.', None, 'San Jose', 'CA', '94217', 'USA', 1165, Decimal('77600.00')), (452, 'Mini Auto Werke', 'Mendel', 'Roland ', '7675-3555', 'Kirchgasse 6', None, 'Graz', None, '8010', 'Austria', 1401, Decimal('45300.00')), (455, 'Super Scale Inc.', 'Murphy', 'Leslie', '2035559545', '567 North Pendale Street', None, 'New Haven', 'CT', '97823', 'USA', 1286, Decimal('95400.00')), (456, 'Microscale Inc.', 'Choi', 'Yu', '2125551957', '5290 North Pendale Street', 'Suite 200', 'NYC', 'NY', '10022', 'USA', 1286, Decimal('39800.00')), (458, 'Corrida Auto Replicas, Ltd', 'Sommer', 'Martín ', '(91) 555 22 82', 'C/ Araquil, 67', None, 'Madrid', None, '28023', 'Spain', 1702, Decimal('104600.00')), (462, 'FunGiftIdeas.com', 'Benitez', 'Violeta', '5085552555', '1785 First Street', None, 'New Bedford', 'MA', '50553', 'USA', 1216, Decimal('85800.00')), (465, 'Anton Designs, Ltd.', 'Anton', 'Carmen', '+34 913 728555', 'c/ Gobelas, 19-1 Urb. La Florida', None, 'Madrid', None, '28023', 'Spain', None, Decimal('0.00')), (471, 'Australian Collectables, Ltd', 'Clenahan', 'Sean', '61-9-3844-6555', '7 Allen Street', None, 'Glen Waverly', 'Victoria', '3150', 'Australia', 1611, Decimal('60300.00')), (473, 'Frau da Collezione', 'Ricotti', 'Franco', '+39 022515555', '20093 Cologno Monzese', 'Alessandro Volta 16', 'Milan', None, None, 'Italy', 1401, Decimal('34800.00')), (475, 'West Coast Collectables Co.', 'Thompson', 'Steve', '3105553722', '3675 Furth Circle', None, 'Burbank', 'CA', '94019', 'USA', 1166, Decimal('55400.00')), (480, 'Kremlin Collectables, Co.', 'Semenov', 'Alexander ', '+7 812 293 0521', '2 Pobedy Square', None, 'Saint Petersburg', None, '196143', 'Russia', None, Decimal('0.00')), (481, 'Raanan Stores, Inc', 'Altagar,G M', 'Raanan', '+ 972 9 959 8555', '3 Hagalim Blv.', None, 'Herzlia', None, '47625', 'Israel', None, Decimal('0.00')), (484, 'Iberia Gift Imports, Corp.', 'Roel', 'José Pedro ', '(95) 555 82 82', 'C/ Romero, 33', None, 'Sevilla', None, '41101', 'Spain', 1702, Decimal('65700.00')), (486, 'Motor Mint Distributors Inc.', 'Salazar', 'Rosa', '2155559857', '11328 Douglas Av.', None, 'Philadelphia', 'PA', '71270', 'USA', 1323, Decimal('72600.00')), (487, 'Signal Collectibles Ltd.', 'Taylor', 'Sue', '4155554312', '2793 Furth Circle', None, 'Brisbane', 'CA', '94217', 'USA', 1165, Decimal('60300.00')), (489, 'Double Decker Gift Stores, Ltd', 'Smith', 'Thomas ', '(171) 555-7555', '120 Hanover Sq.', None, 'London', None, 'WA1 1DP', 'UK', 1501, Decimal('43300.00')), (495, 'Diecast Collectables', 'Franco', 'Valarie', '6175552555', '6251 Ingle Ln.', None, 'Boston', 'MA', '51003', 'USA', 1188, Decimal('85100.00')), (496, \"Kelly's Gift Shop\", 'Snowden', 'Tony', '+64 9 5555500', \"Arenales 1938 3'A'\", None, 'Auckland  ', None, None, 'New Zealand', 1612, Decimal('110000.00'))]\n"
     ]
    }
   ],
   "source": [
    "# Selecting entries that don't have Germany as Country\n",
    "query=\"\"\"SELECT * FROM customers\n",
    "WHERE NOT country= 'Germany';\"\"\"\n",
    "mycursor.execute(query)\n",
    "output=mycursor.fetchall()\n",
    "print(output)"
   ]
  },
  {
   "cell_type": "code",
   "execution_count": 39,
   "metadata": {},
   "outputs": [
    {
     "name": "stdout",
     "output_type": "stream",
     "text": [
      "[(103, 'Atelier graphique', 'Schmitt', 'Carine ', '40.32.2555', '54, rue Royale', None, 'Nantes', None, '44000', 'France', 1370, Decimal('21000.00')), (112, 'Signal Gift Stores', 'King', 'Jean', '7025551838', '8489 Strong St.', None, 'Las Vegas', 'NV', '83030', 'USA', 1166, Decimal('71800.00')), (114, 'Australian Collectors, Co.', 'Ferguson', 'Peter', '03 9520 4555', '636 St Kilda Road', 'Level 3', 'Melbourne', 'Victoria', '3004', 'Australia', 1611, Decimal('117300.00')), (119, 'La Rochelle Gifts', 'Labrune', 'Janine ', '40.67.8555', '67, rue des Cinquante Otages', None, 'Nantes', None, '44000', 'France', 1370, Decimal('118200.00')), (121, 'Baane Mini Imports', 'Bergulfsen', 'Jonas ', '07-98 9555', 'Erling Skakkes gate 78', None, 'Stavern', None, '4110', 'Norway', 1504, Decimal('81700.00')), (124, 'Mini Gifts Distributors Ltd.', 'Nelson', 'Susan', '4155551450', '5677 Strong St.', None, 'San Rafael', 'CA', '97562', 'USA', 1165, Decimal('210500.00')), (125, 'Havel & Zbyszek Co', 'Piestrzeniewicz', 'Zbyszek ', '(26) 642-7555', 'ul. Filtrowa 68', None, 'Warszawa', None, '01-012', 'Poland', None, Decimal('0.00')), (129, 'Mini Wheels Co.', 'Murphy', 'Julie', '6505555787', '5557 North Pendale Street', None, 'San Francisco', 'CA', '94217', 'USA', 1165, Decimal('64600.00')), (131, 'Land of Toys Inc.', 'Lee', 'Kwai', '2125557818', '897 Long Airport Avenue', None, 'NYC', 'NY', '10022', 'USA', 1323, Decimal('114900.00')), (141, 'Euro+ Shopping Channel', 'Freyre', 'Diego ', '(91) 555 94 44', 'C/ Moralzarzal, 86', None, 'Madrid', None, '28034', 'Spain', 1370, Decimal('227600.00'))]\n"
     ]
    }
   ],
   "source": [
    "# Too many entries, let's limit it to 10\n",
    "query=\"\"\"SELECT * FROM customers\n",
    "WHERE NOT country= 'Germany' LIMIT 10;\"\"\"\n",
    "mycursor.execute(query)\n",
    "output=mycursor.fetchall()\n",
    "print(output)"
   ]
  },
  {
   "cell_type": "code",
   "execution_count": 56,
   "metadata": {},
   "outputs": [
    {
     "name": "stdout",
     "output_type": "stream",
     "text": [
      "[(103, 'Atelier graphique', 'Schmitt', 'Carine ', '40.32.2555', '54, rue Royale', None, 'Nantes', None, '44000', 'France', 1370, Decimal('21000.00')), (112, 'Signal Gift Stores', 'King', 'Jean', '7025551838', '8489 Strong St.', None, 'Las Vegas', 'NV', '83030', 'USA', 1166, Decimal('71800.00')), (114, 'Australian Collectors, Co.', 'Ferguson', 'Peter', '03 9520 4555', '636 St Kilda Road', 'Level 3', 'Melbourne', 'Victoria', '3004', 'Australia', 1611, Decimal('117300.00')), (119, 'La Rochelle Gifts', 'Labrune', 'Janine ', '40.67.8555', '67, rue des Cinquante Otages', None, 'Nantes', None, '44000', 'France', 1370, Decimal('118200.00')), (121, 'Baane Mini Imports', 'Bergulfsen', 'Jonas ', '07-98 9555', 'Erling Skakkes gate 78', None, 'Stavern', None, '4110', 'Norway', 1504, Decimal('81700.00')), (124, 'Mini Gifts Distributors Ltd.', 'Nelson', 'Susan', '4155551450', '5677 Strong St.', None, 'San Rafael', 'CA', '97562', 'USA', 1165, Decimal('210500.00')), (125, 'Havel & Zbyszek Co', 'Piestrzeniewicz', 'Zbyszek ', '(26) 642-7555', 'ul. Filtrowa 68', None, 'Warszawa', None, '01-012', 'Poland', None, Decimal('0.00')), (129, 'Mini Wheels Co.', 'Murphy', 'Julie', '6505555787', '5557 North Pendale Street', None, 'San Francisco', 'CA', '94217', 'USA', 1165, Decimal('64600.00')), (131, 'Land of Toys Inc.', 'Lee', 'Kwai', '2125557818', '897 Long Airport Avenue', None, 'NYC', 'NY', '10022', 'USA', 1323, Decimal('114900.00')), (141, 'Euro+ Shopping Channel', 'Freyre', 'Diego ', '(91) 555 94 44', 'C/ Moralzarzal, 86', None, 'Madrid', None, '28034', 'Spain', 1370, Decimal('227600.00'))]\n"
     ]
    }
   ],
   "source": [
    "# Now let's limit it with fetchmany\n",
    "query=\"\"\"SELECT * FROM customers\n",
    "WHERE NOT country= 'Germany';\"\"\"\n",
    "mycursor.execute(query)\n",
    "output=mycursor.fetchmany(10)\n",
    "print(output)"
   ]
  },
  {
   "cell_type": "markdown",
   "metadata": {},
   "source": [
    "Of course, using fetchmany let SQL to do unnecessary work"
   ]
  },
  {
   "cell_type": "markdown",
   "metadata": {},
   "source": [
    "## Ordering, inserting, update, delete and limit"
   ]
  },
  {
   "cell_type": "markdown",
   "metadata": {},
   "source": [
    "Using Order by"
   ]
  },
  {
   "cell_type": "code",
   "execution_count": 75,
   "metadata": {},
   "outputs": [
    {
     "data": {
      "text/html": [
       "<div>\n",
       "<style scoped>\n",
       "    .dataframe tbody tr th:only-of-type {\n",
       "        vertical-align: middle;\n",
       "    }\n",
       "\n",
       "    .dataframe tbody tr th {\n",
       "        vertical-align: top;\n",
       "    }\n",
       "\n",
       "    .dataframe thead th {\n",
       "        text-align: right;\n",
       "    }\n",
       "</style>\n",
       "<table border=\"1\" class=\"dataframe\">\n",
       "  <thead>\n",
       "    <tr style=\"text-align: right;\">\n",
       "      <th></th>\n",
       "      <th>country</th>\n",
       "      <th>customerNumber</th>\n",
       "      <th>contactLastName</th>\n",
       "    </tr>\n",
       "  </thead>\n",
       "  <tbody>\n",
       "    <tr>\n",
       "      <th>0</th>\n",
       "      <td>Australia</td>\n",
       "      <td>114</td>\n",
       "      <td>Ferguson</td>\n",
       "    </tr>\n",
       "    <tr>\n",
       "      <th>1</th>\n",
       "      <td>Australia</td>\n",
       "      <td>276</td>\n",
       "      <td>O'Hara</td>\n",
       "    </tr>\n",
       "    <tr>\n",
       "      <th>2</th>\n",
       "      <td>Australia</td>\n",
       "      <td>282</td>\n",
       "      <td>Huxley</td>\n",
       "    </tr>\n",
       "    <tr>\n",
       "      <th>3</th>\n",
       "      <td>Australia</td>\n",
       "      <td>333</td>\n",
       "      <td>Calaghan</td>\n",
       "    </tr>\n",
       "    <tr>\n",
       "      <th>4</th>\n",
       "      <td>Australia</td>\n",
       "      <td>471</td>\n",
       "      <td>Clenahan</td>\n",
       "    </tr>\n",
       "  </tbody>\n",
       "</table>\n",
       "</div>"
      ],
      "text/plain": [
       "     country  customerNumber contactLastName\n",
       "0  Australia             114        Ferguson\n",
       "1  Australia             276          O'Hara\n",
       "2  Australia             282          Huxley\n",
       "3  Australia             333        Calaghan\n",
       "4  Australia             471        Clenahan"
      ]
     },
     "execution_count": 75,
     "metadata": {},
     "output_type": "execute_result"
    }
   ],
   "source": [
    "query=\"\"\"SELECT country, customerNumber, contactLastName FROM customers\n",
    "ORDER BY country;\"\"\"\n",
    "mycursor.execute(query)\n",
    "output=mycursor.fetchall()\n",
    "df=pd.DataFrame(output,columns=[\"country\",\"customerNumber\",\"contactLastName\"])\n",
    "df.head()"
   ]
  },
  {
   "cell_type": "markdown",
   "metadata": {},
   "source": [
    "By default it appears in ascending order, let's try descending"
   ]
  },
  {
   "cell_type": "code",
   "execution_count": 67,
   "metadata": {},
   "outputs": [
    {
     "data": {
      "text/html": [
       "<div>\n",
       "<style scoped>\n",
       "    .dataframe tbody tr th:only-of-type {\n",
       "        vertical-align: middle;\n",
       "    }\n",
       "\n",
       "    .dataframe tbody tr th {\n",
       "        vertical-align: top;\n",
       "    }\n",
       "\n",
       "    .dataframe thead th {\n",
       "        text-align: right;\n",
       "    }\n",
       "</style>\n",
       "<table border=\"1\" class=\"dataframe\">\n",
       "  <thead>\n",
       "    <tr style=\"text-align: right;\">\n",
       "      <th></th>\n",
       "      <th>country</th>\n",
       "      <th>customerNumber</th>\n",
       "      <th>contactLastName</th>\n",
       "    </tr>\n",
       "  </thead>\n",
       "  <tbody>\n",
       "    <tr>\n",
       "      <th>0</th>\n",
       "      <td>USA</td>\n",
       "      <td>112</td>\n",
       "      <td>King</td>\n",
       "    </tr>\n",
       "    <tr>\n",
       "      <th>1</th>\n",
       "      <td>USA</td>\n",
       "      <td>124</td>\n",
       "      <td>Nelson</td>\n",
       "    </tr>\n",
       "    <tr>\n",
       "      <th>2</th>\n",
       "      <td>USA</td>\n",
       "      <td>129</td>\n",
       "      <td>Murphy</td>\n",
       "    </tr>\n",
       "    <tr>\n",
       "      <th>3</th>\n",
       "      <td>USA</td>\n",
       "      <td>131</td>\n",
       "      <td>Lee</td>\n",
       "    </tr>\n",
       "    <tr>\n",
       "      <th>4</th>\n",
       "      <td>USA</td>\n",
       "      <td>151</td>\n",
       "      <td>Young</td>\n",
       "    </tr>\n",
       "  </tbody>\n",
       "</table>\n",
       "</div>"
      ],
      "text/plain": [
       "  country  customerNumber contactLastName\n",
       "0     USA             112            King\n",
       "1     USA             124          Nelson\n",
       "2     USA             129          Murphy\n",
       "3     USA             131             Lee\n",
       "4     USA             151           Young"
      ]
     },
     "execution_count": 67,
     "metadata": {},
     "output_type": "execute_result"
    }
   ],
   "source": [
    "# In descending order\n",
    "query=\"\"\"SELECT country, customerNumber, contactLastName FROM customers\n",
    "ORDER BY country DESC;\"\"\"\n",
    "mycursor.execute(query)\n",
    "output=mycursor.fetchall()\n",
    "df=pd.DataFrame(output,columns=[\"country\",\"customerNumber\",\"contactLastName\"])\n",
    "df.head()"
   ]
  },
  {
   "cell_type": "markdown",
   "metadata": {},
   "source": [
    "Ordering by several columns, it takes the first one as main order, then, if there are repeated items, it uses the second column to order."
   ]
  },
  {
   "cell_type": "code",
   "execution_count": 68,
   "metadata": {},
   "outputs": [
    {
     "data": {
      "text/html": [
       "<div>\n",
       "<style scoped>\n",
       "    .dataframe tbody tr th:only-of-type {\n",
       "        vertical-align: middle;\n",
       "    }\n",
       "\n",
       "    .dataframe tbody tr th {\n",
       "        vertical-align: top;\n",
       "    }\n",
       "\n",
       "    .dataframe thead th {\n",
       "        text-align: right;\n",
       "    }\n",
       "</style>\n",
       "<table border=\"1\" class=\"dataframe\">\n",
       "  <thead>\n",
       "    <tr style=\"text-align: right;\">\n",
       "      <th></th>\n",
       "      <th>country</th>\n",
       "      <th>customerNumber</th>\n",
       "      <th>contactLastName</th>\n",
       "    </tr>\n",
       "  </thead>\n",
       "  <tbody>\n",
       "    <tr>\n",
       "      <th>0</th>\n",
       "      <td>Australia</td>\n",
       "      <td>333</td>\n",
       "      <td>Calaghan</td>\n",
       "    </tr>\n",
       "    <tr>\n",
       "      <th>1</th>\n",
       "      <td>Australia</td>\n",
       "      <td>471</td>\n",
       "      <td>Clenahan</td>\n",
       "    </tr>\n",
       "    <tr>\n",
       "      <th>2</th>\n",
       "      <td>Australia</td>\n",
       "      <td>114</td>\n",
       "      <td>Ferguson</td>\n",
       "    </tr>\n",
       "    <tr>\n",
       "      <th>3</th>\n",
       "      <td>Australia</td>\n",
       "      <td>282</td>\n",
       "      <td>Huxley</td>\n",
       "    </tr>\n",
       "    <tr>\n",
       "      <th>4</th>\n",
       "      <td>Australia</td>\n",
       "      <td>276</td>\n",
       "      <td>O'Hara</td>\n",
       "    </tr>\n",
       "  </tbody>\n",
       "</table>\n",
       "</div>"
      ],
      "text/plain": [
       "     country  customerNumber contactLastName\n",
       "0  Australia             333        Calaghan\n",
       "1  Australia             471        Clenahan\n",
       "2  Australia             114        Ferguson\n",
       "3  Australia             282          Huxley\n",
       "4  Australia             276          O'Hara"
      ]
     },
     "execution_count": 68,
     "metadata": {},
     "output_type": "execute_result"
    }
   ],
   "source": [
    "# Order by country and customer name\n",
    "query=\"\"\"SELECT country, customerNumber, contactLastName FROM customers\n",
    "ORDER BY country, contactLastName;\"\"\"\n",
    "mycursor.execute(query)\n",
    "output=mycursor.fetchall()\n",
    "df=pd.DataFrame(output,columns=[\"country\",\"customerNumber\",\"contactLastName\"])\n",
    "df.head()"
   ]
  },
  {
   "cell_type": "markdown",
   "metadata": {},
   "source": [
    "We can choose ascending or descending orders sepparately"
   ]
  },
  {
   "cell_type": "code",
   "execution_count": 69,
   "metadata": {},
   "outputs": [
    {
     "data": {
      "text/html": [
       "<div>\n",
       "<style scoped>\n",
       "    .dataframe tbody tr th:only-of-type {\n",
       "        vertical-align: middle;\n",
       "    }\n",
       "\n",
       "    .dataframe tbody tr th {\n",
       "        vertical-align: top;\n",
       "    }\n",
       "\n",
       "    .dataframe thead th {\n",
       "        text-align: right;\n",
       "    }\n",
       "</style>\n",
       "<table border=\"1\" class=\"dataframe\">\n",
       "  <thead>\n",
       "    <tr style=\"text-align: right;\">\n",
       "      <th></th>\n",
       "      <th>country</th>\n",
       "      <th>customerNumber</th>\n",
       "      <th>contactLastName</th>\n",
       "    </tr>\n",
       "  </thead>\n",
       "  <tbody>\n",
       "    <tr>\n",
       "      <th>0</th>\n",
       "      <td>Australia</td>\n",
       "      <td>276</td>\n",
       "      <td>O'Hara</td>\n",
       "    </tr>\n",
       "    <tr>\n",
       "      <th>1</th>\n",
       "      <td>Australia</td>\n",
       "      <td>282</td>\n",
       "      <td>Huxley</td>\n",
       "    </tr>\n",
       "    <tr>\n",
       "      <th>2</th>\n",
       "      <td>Australia</td>\n",
       "      <td>114</td>\n",
       "      <td>Ferguson</td>\n",
       "    </tr>\n",
       "    <tr>\n",
       "      <th>3</th>\n",
       "      <td>Australia</td>\n",
       "      <td>471</td>\n",
       "      <td>Clenahan</td>\n",
       "    </tr>\n",
       "    <tr>\n",
       "      <th>4</th>\n",
       "      <td>Australia</td>\n",
       "      <td>333</td>\n",
       "      <td>Calaghan</td>\n",
       "    </tr>\n",
       "  </tbody>\n",
       "</table>\n",
       "</div>"
      ],
      "text/plain": [
       "     country  customerNumber contactLastName\n",
       "0  Australia             276          O'Hara\n",
       "1  Australia             282          Huxley\n",
       "2  Australia             114        Ferguson\n",
       "3  Australia             471        Clenahan\n",
       "4  Australia             333        Calaghan"
      ]
     },
     "execution_count": 69,
     "metadata": {},
     "output_type": "execute_result"
    }
   ],
   "source": [
    "# Order country ascendint and customername descending\n",
    "query=\"\"\"SELECT country, customerNumber, contactLastName FROM customers\n",
    "ORDER BY country, contactLastName DESC;\"\"\"\n",
    "mycursor.execute(query)\n",
    "output=mycursor.fetchall()\n",
    "df=pd.DataFrame(output,columns=[\"country\",\"customerNumber\",\"contactLastName\"])\n",
    "df.head()"
   ]
  },
  {
   "cell_type": "markdown",
   "metadata": {},
   "source": [
    "Which is the same as "
   ]
  },
  {
   "cell_type": "code",
   "execution_count": 70,
   "metadata": {},
   "outputs": [
    {
     "data": {
      "text/html": [
       "<div>\n",
       "<style scoped>\n",
       "    .dataframe tbody tr th:only-of-type {\n",
       "        vertical-align: middle;\n",
       "    }\n",
       "\n",
       "    .dataframe tbody tr th {\n",
       "        vertical-align: top;\n",
       "    }\n",
       "\n",
       "    .dataframe thead th {\n",
       "        text-align: right;\n",
       "    }\n",
       "</style>\n",
       "<table border=\"1\" class=\"dataframe\">\n",
       "  <thead>\n",
       "    <tr style=\"text-align: right;\">\n",
       "      <th></th>\n",
       "      <th>country</th>\n",
       "      <th>customerNumber</th>\n",
       "      <th>contactLastName</th>\n",
       "    </tr>\n",
       "  </thead>\n",
       "  <tbody>\n",
       "    <tr>\n",
       "      <th>0</th>\n",
       "      <td>Australia</td>\n",
       "      <td>276</td>\n",
       "      <td>O'Hara</td>\n",
       "    </tr>\n",
       "    <tr>\n",
       "      <th>1</th>\n",
       "      <td>Australia</td>\n",
       "      <td>282</td>\n",
       "      <td>Huxley</td>\n",
       "    </tr>\n",
       "    <tr>\n",
       "      <th>2</th>\n",
       "      <td>Australia</td>\n",
       "      <td>114</td>\n",
       "      <td>Ferguson</td>\n",
       "    </tr>\n",
       "    <tr>\n",
       "      <th>3</th>\n",
       "      <td>Australia</td>\n",
       "      <td>471</td>\n",
       "      <td>Clenahan</td>\n",
       "    </tr>\n",
       "    <tr>\n",
       "      <th>4</th>\n",
       "      <td>Australia</td>\n",
       "      <td>333</td>\n",
       "      <td>Calaghan</td>\n",
       "    </tr>\n",
       "  </tbody>\n",
       "</table>\n",
       "</div>"
      ],
      "text/plain": [
       "     country  customerNumber contactLastName\n",
       "0  Australia             276          O'Hara\n",
       "1  Australia             282          Huxley\n",
       "2  Australia             114        Ferguson\n",
       "3  Australia             471        Clenahan\n",
       "4  Australia             333        Calaghan"
      ]
     },
     "execution_count": 70,
     "metadata": {},
     "output_type": "execute_result"
    }
   ],
   "source": [
    "# Order country ascendint and customername descending\n",
    "query=\"\"\"SELECT country, customerNumber, contactLastName FROM customers\n",
    "ORDER BY country ASC, contactLastName DESC;\"\"\"\n",
    "mycursor.execute(query)\n",
    "output=mycursor.fetchall()\n",
    "df=pd.DataFrame(output,columns=[\"country\",\"customerNumber\",\"contactLastName\"])\n",
    "df.head()"
   ]
  },
  {
   "cell_type": "markdown",
   "metadata": {},
   "source": [
    "Using insert into statement"
   ]
  },
  {
   "cell_type": "code",
   "execution_count": 72,
   "metadata": {},
   "outputs": [
    {
     "name": "stdout",
     "output_type": "stream",
     "text": [
      "[('addressLine1',), ('addressLine2',), ('city',), ('contactFirstName',), ('contactLastName',), ('country',), ('creditLimit',), ('customerName',), ('customerNumber',), ('phone',), ('postalCode',), ('salesRepEmployeeNumber',), ('state',)]\n"
     ]
    }
   ],
   "source": [
    "# Let's first remember the column names of the customers table\n",
    "query=\"\"\"SELECT column_name FROM information_schema.columns \n",
    "WHERE table_name='customers';\"\"\"\n",
    "mycursor.execute(query)\n",
    "print(mycursor.fetchall())\n"
   ]
  },
  {
   "cell_type": "markdown",
   "metadata": {},
   "source": [
    "Now let's insert a new entry"
   ]
  },
  {
   "cell_type": "code",
   "execution_count": 73,
   "metadata": {},
   "outputs": [],
   "source": [
    "# Insert a new customer\n",
    "query=\"\"\"INSERT INTO customers (customerNumber, customerName, contactLastName, contactFirstName, phone, addressLine1, addressLine2, city, state, postalCode, country, salesRepEmployeeNumber, creditLimit)\n",
    "VALUES (NULL, 'Test', 'Test', 'Test', 'Test', 'Test', 'Test', 'Test', 'Test', 'Test', 'Test', NULL, NULL);\"\"\""
   ]
  },
  {
   "cell_type": "markdown",
   "metadata": {},
   "source": [
    "It is possible to insert only into certain columns, the rest are filled automatically"
   ]
  },
  {
   "cell_type": "code",
   "execution_count": 74,
   "metadata": {},
   "outputs": [],
   "source": [
    "# Insert a new customer with a specific customerNumber and city only\n",
    "query=\"\"\"INSERT INTO customers (customerNumber, city)\n",
    "VALUES (NULL, 'Test');\"\"\""
   ]
  },
  {
   "cell_type": "markdown",
   "metadata": {},
   "source": [
    "## Handling Null values"
   ]
  },
  {
   "cell_type": "code",
   "execution_count": 76,
   "metadata": {},
   "outputs": [
    {
     "data": {
      "text/html": [
       "<div>\n",
       "<style scoped>\n",
       "    .dataframe tbody tr th:only-of-type {\n",
       "        vertical-align: middle;\n",
       "    }\n",
       "\n",
       "    .dataframe tbody tr th {\n",
       "        vertical-align: top;\n",
       "    }\n",
       "\n",
       "    .dataframe thead th {\n",
       "        text-align: right;\n",
       "    }\n",
       "</style>\n",
       "<table border=\"1\" class=\"dataframe\">\n",
       "  <thead>\n",
       "    <tr style=\"text-align: right;\">\n",
       "      <th></th>\n",
       "      <th>customerNumber</th>\n",
       "      <th>customerName</th>\n",
       "      <th>contactLastName</th>\n",
       "      <th>contactFirstName</th>\n",
       "      <th>phone</th>\n",
       "      <th>addressLine1</th>\n",
       "      <th>addressLine2</th>\n",
       "      <th>city</th>\n",
       "      <th>state</th>\n",
       "      <th>postalCode</th>\n",
       "      <th>country</th>\n",
       "      <th>salesRepEmployeeNumber</th>\n",
       "      <th>creditLimit</th>\n",
       "    </tr>\n",
       "  </thead>\n",
       "  <tbody>\n",
       "    <tr>\n",
       "      <th>0</th>\n",
       "      <td>103</td>\n",
       "      <td>Atelier graphique</td>\n",
       "      <td>Schmitt</td>\n",
       "      <td>Carine</td>\n",
       "      <td>40.32.2555</td>\n",
       "      <td>54, rue Royale</td>\n",
       "      <td>None</td>\n",
       "      <td>Nantes</td>\n",
       "      <td>None</td>\n",
       "      <td>44000</td>\n",
       "      <td>France</td>\n",
       "      <td>1370.0</td>\n",
       "      <td>21000.00</td>\n",
       "    </tr>\n",
       "    <tr>\n",
       "      <th>1</th>\n",
       "      <td>112</td>\n",
       "      <td>Signal Gift Stores</td>\n",
       "      <td>King</td>\n",
       "      <td>Jean</td>\n",
       "      <td>7025551838</td>\n",
       "      <td>8489 Strong St.</td>\n",
       "      <td>None</td>\n",
       "      <td>Las Vegas</td>\n",
       "      <td>NV</td>\n",
       "      <td>83030</td>\n",
       "      <td>USA</td>\n",
       "      <td>1166.0</td>\n",
       "      <td>71800.00</td>\n",
       "    </tr>\n",
       "    <tr>\n",
       "      <th>2</th>\n",
       "      <td>114</td>\n",
       "      <td>Australian Collectors, Co.</td>\n",
       "      <td>Ferguson</td>\n",
       "      <td>Peter</td>\n",
       "      <td>03 9520 4555</td>\n",
       "      <td>636 St Kilda Road</td>\n",
       "      <td>Level 3</td>\n",
       "      <td>Melbourne</td>\n",
       "      <td>Victoria</td>\n",
       "      <td>3004</td>\n",
       "      <td>Australia</td>\n",
       "      <td>1611.0</td>\n",
       "      <td>117300.00</td>\n",
       "    </tr>\n",
       "    <tr>\n",
       "      <th>3</th>\n",
       "      <td>119</td>\n",
       "      <td>La Rochelle Gifts</td>\n",
       "      <td>Labrune</td>\n",
       "      <td>Janine</td>\n",
       "      <td>40.67.8555</td>\n",
       "      <td>67, rue des Cinquante Otages</td>\n",
       "      <td>None</td>\n",
       "      <td>Nantes</td>\n",
       "      <td>None</td>\n",
       "      <td>44000</td>\n",
       "      <td>France</td>\n",
       "      <td>1370.0</td>\n",
       "      <td>118200.00</td>\n",
       "    </tr>\n",
       "    <tr>\n",
       "      <th>4</th>\n",
       "      <td>121</td>\n",
       "      <td>Baane Mini Imports</td>\n",
       "      <td>Bergulfsen</td>\n",
       "      <td>Jonas</td>\n",
       "      <td>07-98 9555</td>\n",
       "      <td>Erling Skakkes gate 78</td>\n",
       "      <td>None</td>\n",
       "      <td>Stavern</td>\n",
       "      <td>None</td>\n",
       "      <td>4110</td>\n",
       "      <td>Norway</td>\n",
       "      <td>1504.0</td>\n",
       "      <td>81700.00</td>\n",
       "    </tr>\n",
       "  </tbody>\n",
       "</table>\n",
       "</div>"
      ],
      "text/plain": [
       "   customerNumber                customerName contactLastName  \\\n",
       "0             103           Atelier graphique         Schmitt   \n",
       "1             112          Signal Gift Stores            King   \n",
       "2             114  Australian Collectors, Co.        Ferguson   \n",
       "3             119           La Rochelle Gifts         Labrune   \n",
       "4             121          Baane Mini Imports      Bergulfsen   \n",
       "\n",
       "  contactFirstName         phone                  addressLine1 addressLine2  \\\n",
       "0          Carine     40.32.2555                54, rue Royale         None   \n",
       "1             Jean    7025551838               8489 Strong St.         None   \n",
       "2            Peter  03 9520 4555             636 St Kilda Road      Level 3   \n",
       "3          Janine     40.67.8555  67, rue des Cinquante Otages         None   \n",
       "4           Jonas     07-98 9555        Erling Skakkes gate 78         None   \n",
       "\n",
       "        city     state postalCode    country  salesRepEmployeeNumber  \\\n",
       "0     Nantes      None      44000     France                  1370.0   \n",
       "1  Las Vegas        NV      83030        USA                  1166.0   \n",
       "2  Melbourne  Victoria       3004  Australia                  1611.0   \n",
       "3     Nantes      None      44000     France                  1370.0   \n",
       "4    Stavern      None       4110     Norway                  1504.0   \n",
       "\n",
       "  creditLimit  \n",
       "0    21000.00  \n",
       "1    71800.00  \n",
       "2   117300.00  \n",
       "3   118200.00  \n",
       "4    81700.00  "
      ]
     },
     "execution_count": 76,
     "metadata": {},
     "output_type": "execute_result"
    }
   ],
   "source": [
    "# Select entries with non-empty city\n",
    "query=\"\"\"SELECT * FROM customers\n",
    "WHERE city IS NOT NULL;\"\"\"\n",
    "mycursor.execute(query)\n",
    "output=mycursor.fetchall()\n",
    "df=pd.DataFrame(output,columns=[\"customerNumber\",\"customerName\",\"contactLastName\",\"contactFirstName\",\"phone\",\"addressLine1\",\"addressLine2\",\"city\",\"state\",\"postalCode\",\"country\",\"salesRepEmployeeNumber\",\"creditLimit\"])\n",
    "df.head()"
   ]
  },
  {
   "cell_type": "markdown",
   "metadata": {},
   "source": [
    "## Update statement"
   ]
  },
  {
   "cell_type": "code",
   "execution_count": 80,
   "metadata": {},
   "outputs": [],
   "source": [
    "# Let's update customerName of customerNumber=103\n",
    "query=\"\"\"UPDATE customers\n",
    "SET customerName='David Davalos', city='London'\n",
    "WHERE customerNumber=103;\"\"\"\n",
    "# Execute the query\n",
    "mycursor.execute(query)"
   ]
  },
  {
   "cell_type": "markdown",
   "metadata": {},
   "source": [
    "Let's check the updated table"
   ]
  },
  {
   "cell_type": "code",
   "execution_count": 82,
   "metadata": {},
   "outputs": [
    {
     "data": {
      "text/html": [
       "<div>\n",
       "<style scoped>\n",
       "    .dataframe tbody tr th:only-of-type {\n",
       "        vertical-align: middle;\n",
       "    }\n",
       "\n",
       "    .dataframe tbody tr th {\n",
       "        vertical-align: top;\n",
       "    }\n",
       "\n",
       "    .dataframe thead th {\n",
       "        text-align: right;\n",
       "    }\n",
       "</style>\n",
       "<table border=\"1\" class=\"dataframe\">\n",
       "  <thead>\n",
       "    <tr style=\"text-align: right;\">\n",
       "      <th></th>\n",
       "      <th>customerNumber</th>\n",
       "      <th>customerName</th>\n",
       "      <th>contactLastName</th>\n",
       "      <th>contactFirstName</th>\n",
       "      <th>phone</th>\n",
       "      <th>addressLine1</th>\n",
       "      <th>addressLine2</th>\n",
       "      <th>city</th>\n",
       "      <th>state</th>\n",
       "      <th>postalCode</th>\n",
       "      <th>country</th>\n",
       "      <th>salesRepEmployeeNumber</th>\n",
       "      <th>creditLimit</th>\n",
       "    </tr>\n",
       "  </thead>\n",
       "  <tbody>\n",
       "    <tr>\n",
       "      <th>0</th>\n",
       "      <td>103</td>\n",
       "      <td>David Davalos</td>\n",
       "      <td>Schmitt</td>\n",
       "      <td>Carine</td>\n",
       "      <td>40.32.2555</td>\n",
       "      <td>54, rue Royale</td>\n",
       "      <td>None</td>\n",
       "      <td>London</td>\n",
       "      <td>None</td>\n",
       "      <td>44000</td>\n",
       "      <td>France</td>\n",
       "      <td>1370.0</td>\n",
       "      <td>21000.00</td>\n",
       "    </tr>\n",
       "    <tr>\n",
       "      <th>1</th>\n",
       "      <td>112</td>\n",
       "      <td>Signal Gift Stores</td>\n",
       "      <td>King</td>\n",
       "      <td>Jean</td>\n",
       "      <td>7025551838</td>\n",
       "      <td>8489 Strong St.</td>\n",
       "      <td>None</td>\n",
       "      <td>Las Vegas</td>\n",
       "      <td>NV</td>\n",
       "      <td>83030</td>\n",
       "      <td>USA</td>\n",
       "      <td>1166.0</td>\n",
       "      <td>71800.00</td>\n",
       "    </tr>\n",
       "    <tr>\n",
       "      <th>2</th>\n",
       "      <td>114</td>\n",
       "      <td>Australian Collectors, Co.</td>\n",
       "      <td>Ferguson</td>\n",
       "      <td>Peter</td>\n",
       "      <td>03 9520 4555</td>\n",
       "      <td>636 St Kilda Road</td>\n",
       "      <td>Level 3</td>\n",
       "      <td>Melbourne</td>\n",
       "      <td>Victoria</td>\n",
       "      <td>3004</td>\n",
       "      <td>Australia</td>\n",
       "      <td>1611.0</td>\n",
       "      <td>117300.00</td>\n",
       "    </tr>\n",
       "    <tr>\n",
       "      <th>3</th>\n",
       "      <td>119</td>\n",
       "      <td>La Rochelle Gifts</td>\n",
       "      <td>Labrune</td>\n",
       "      <td>Janine</td>\n",
       "      <td>40.67.8555</td>\n",
       "      <td>67, rue des Cinquante Otages</td>\n",
       "      <td>None</td>\n",
       "      <td>Nantes</td>\n",
       "      <td>None</td>\n",
       "      <td>44000</td>\n",
       "      <td>France</td>\n",
       "      <td>1370.0</td>\n",
       "      <td>118200.00</td>\n",
       "    </tr>\n",
       "    <tr>\n",
       "      <th>4</th>\n",
       "      <td>121</td>\n",
       "      <td>Baane Mini Imports</td>\n",
       "      <td>Bergulfsen</td>\n",
       "      <td>Jonas</td>\n",
       "      <td>07-98 9555</td>\n",
       "      <td>Erling Skakkes gate 78</td>\n",
       "      <td>None</td>\n",
       "      <td>Stavern</td>\n",
       "      <td>None</td>\n",
       "      <td>4110</td>\n",
       "      <td>Norway</td>\n",
       "      <td>1504.0</td>\n",
       "      <td>81700.00</td>\n",
       "    </tr>\n",
       "  </tbody>\n",
       "</table>\n",
       "</div>"
      ],
      "text/plain": [
       "   customerNumber                customerName contactLastName  \\\n",
       "0             103               David Davalos         Schmitt   \n",
       "1             112          Signal Gift Stores            King   \n",
       "2             114  Australian Collectors, Co.        Ferguson   \n",
       "3             119           La Rochelle Gifts         Labrune   \n",
       "4             121          Baane Mini Imports      Bergulfsen   \n",
       "\n",
       "  contactFirstName         phone                  addressLine1 addressLine2  \\\n",
       "0          Carine     40.32.2555                54, rue Royale         None   \n",
       "1             Jean    7025551838               8489 Strong St.         None   \n",
       "2            Peter  03 9520 4555             636 St Kilda Road      Level 3   \n",
       "3          Janine     40.67.8555  67, rue des Cinquante Otages         None   \n",
       "4           Jonas     07-98 9555        Erling Skakkes gate 78         None   \n",
       "\n",
       "        city     state postalCode    country  salesRepEmployeeNumber  \\\n",
       "0     London      None      44000     France                  1370.0   \n",
       "1  Las Vegas        NV      83030        USA                  1166.0   \n",
       "2  Melbourne  Victoria       3004  Australia                  1611.0   \n",
       "3     Nantes      None      44000     France                  1370.0   \n",
       "4    Stavern      None       4110     Norway                  1504.0   \n",
       "\n",
       "  creditLimit  \n",
       "0    21000.00  \n",
       "1    71800.00  \n",
       "2   117300.00  \n",
       "3   118200.00  \n",
       "4    81700.00  "
      ]
     },
     "execution_count": 82,
     "metadata": {},
     "output_type": "execute_result"
    }
   ],
   "source": [
    "# Select entries with non-empty city\n",
    "query=\"\"\"SELECT * FROM customers\n",
    "WHERE city IS NOT NULL;\"\"\"\n",
    "mycursor.execute(query)\n",
    "output=mycursor.fetchall()\n",
    "df=pd.DataFrame(output,columns=[\"customerNumber\",\"customerName\",\"contactLastName\",\"contactFirstName\",\"phone\",\"addressLine1\",\"addressLine2\",\"city\",\"state\",\"postalCode\",\"country\",\"salesRepEmployeeNumber\",\"creditLimit\"])\n",
    "df.head()"
   ]
  },
  {
   "cell_type": "markdown",
   "metadata": {},
   "source": [
    "One can update multiple records, for instance choosing a specific country or city instead of the ID in the statement WHERE"
   ]
  },
  {
   "cell_type": "code",
   "execution_count": 83,
   "metadata": {},
   "outputs": [],
   "source": [
    "## Delete statement"
   ]
  },
  {
   "cell_type": "markdown",
   "metadata": {},
   "source": []
  },
  {
   "cell_type": "code",
   "execution_count": 84,
   "metadata": {},
   "outputs": [],
   "source": [
    "query=\"\"\"DELETE FROM customers \n",
    "WHERE customerName='Alfreds Futterkiste';\"\"\"\n",
    "# I won't run this because"
   ]
  },
  {
   "cell_type": "markdown",
   "metadata": {},
   "source": [
    "## Limit clause"
   ]
  },
  {
   "cell_type": "markdown",
   "metadata": {},
   "source": [
    "It was already used above"
   ]
  },
  {
   "cell_type": "markdown",
   "metadata": {},
   "source": [
    "## __MIN__ and __MAX__ functions"
   ]
  },
  {
   "cell_type": "markdown",
   "metadata": {},
   "source": [
    "They return the minimum or maximum values of the selected column"
   ]
  },
  {
   "cell_type": "code",
   "execution_count": 85,
   "metadata": {},
   "outputs": [
    {
     "name": "stdout",
     "output_type": "stream",
     "text": [
      "[(Decimal('15.91'),)]\n"
     ]
    }
   ],
   "source": [
    "# Select minimum buyPrice from products table\n",
    "query=\"\"\"SELECT MIN(buyPrice) FROM products;\"\"\"\n",
    "mycursor.execute(query)\n",
    "output=mycursor.fetchall()\n",
    "print(output)"
   ]
  },
  {
   "cell_type": "code",
   "execution_count": 100,
   "metadata": {},
   "outputs": [
    {
     "name": "stdout",
     "output_type": "stream",
     "text": [
      "[(Decimal('103.42'),)]\n"
     ]
    }
   ],
   "source": [
    "# Select maximum buyPrice from products table\n",
    "query=\"\"\"SELECT MAX(buyPrice)\n",
    " FROM products;\"\"\"\n",
    "mycursor.execute(query)\n",
    "output=mycursor.fetchall()\n",
    "print(output)"
   ]
  },
  {
   "cell_type": "markdown",
   "metadata": {},
   "source": [
    "## Count, Average and Sum"
   ]
  },
  {
   "cell_type": "code",
   "execution_count": 105,
   "metadata": {},
   "outputs": [
    {
     "name": "stdout",
     "output_type": "stream",
     "text": [
      "[(36,)]\n"
     ]
    }
   ],
   "source": [
    "# Counts rows that match a specified criterion\n",
    "query=\"\"\"SELECT COUNT(city)\n",
    " FROM customers\n",
    " WHERE country='USA';\"\"\"\n",
    "mycursor.execute(query)\n",
    "output=mycursor.fetchall()\n",
    "print(output)"
   ]
  },
  {
   "cell_type": "code",
   "execution_count": 110,
   "metadata": {},
   "outputs": [
    {
     "name": "stdout",
     "output_type": "stream",
     "text": [
      "[('buyPrice',), ('MSRP',), ('productCode',), ('productDescription',), ('productLine',), ('productName',), ('productScale',), ('productVendor',), ('quantityInStock',)]\n"
     ]
    }
   ],
   "source": [
    "# Print column names of products table\n",
    "query=\"\"\"SELECT column_name FROM information_schema.columns\n",
    "    WHERE table_name='products';\"\"\"\n",
    "mycursor.execute(query)\n",
    "print(mycursor.fetchall())"
   ]
  },
  {
   "cell_type": "code",
   "execution_count": 109,
   "metadata": {},
   "outputs": [
    {
     "name": "stdout",
     "output_type": "stream",
     "text": [
      "[(23,)]\n"
     ]
    }
   ],
   "source": [
    "# Counts rows that match a specified criterion, in this case looking only for distinct cities\n",
    "query=\"\"\"SELECT COUNT( DISTINCT city)\n",
    " FROM customers\n",
    " WHERE country='USA';\"\"\"\n",
    "mycursor.execute(query)\n",
    "output=mycursor.fetchall()\n",
    "print(output)"
   ]
  },
  {
   "cell_type": "markdown",
   "metadata": {},
   "source": [
    "Average"
   ]
  },
  {
   "cell_type": "code",
   "execution_count": 111,
   "metadata": {},
   "outputs": [
    {
     "name": "stdout",
     "output_type": "stream",
     "text": [
      "[(Decimal('54.395182'),)]\n"
     ]
    }
   ],
   "source": [
    "query=\"\"\"SELECT AVG(buyPrice)\n",
    " FROM products;\"\"\"\n",
    "mycursor.execute(query)\n",
    "output=mycursor.fetchall()\n",
    "print(output)"
   ]
  },
  {
   "cell_type": "markdown",
   "metadata": {},
   "source": [
    "Sum"
   ]
  },
  {
   "cell_type": "code",
   "execution_count": 112,
   "metadata": {},
   "outputs": [
    {
     "name": "stdout",
     "output_type": "stream",
     "text": [
      "[(Decimal('5983.47'),)]\n"
     ]
    }
   ],
   "source": [
    "query=\"\"\"SELECT SUM(buyPrice)\n",
    " FROM products;\"\"\"\n",
    "mycursor.execute(query)\n",
    "output=mycursor.fetchall()\n",
    "print(output)"
   ]
  },
  {
   "cell_type": "markdown",
   "metadata": {},
   "source": [
    "## Like"
   ]
  },
  {
   "cell_type": "markdown",
   "metadata": {},
   "source": [
    "This is used in a WHERE clause to search for a specific pattern in a column"
   ]
  },
  {
   "cell_type": "code",
   "execution_count": 113,
   "metadata": {},
   "outputs": [
    {
     "name": "stdout",
     "output_type": "stream",
     "text": [
      "[('addressLine1',), ('addressLine2',), ('city',), ('contactFirstName',), ('contactLastName',), ('country',), ('creditLimit',), ('customerName',), ('customerNumber',), ('phone',), ('postalCode',), ('salesRepEmployeeNumber',), ('state',)]\n"
     ]
    }
   ],
   "source": [
    "# Print column names of customers table\n",
    "query=\"\"\"SELECT column_name FROM information_schema.columns\n",
    "    WHERE table_name='customers';\"\"\"\n",
    "mycursor.execute(query)\n",
    "print(mycursor.fetchall())"
   ]
  },
  {
   "cell_type": "code",
   "execution_count": 115,
   "metadata": {},
   "outputs": [
    {
     "data": {
      "text/html": [
       "<div>\n",
       "<style scoped>\n",
       "    .dataframe tbody tr th:only-of-type {\n",
       "        vertical-align: middle;\n",
       "    }\n",
       "\n",
       "    .dataframe tbody tr th {\n",
       "        vertical-align: top;\n",
       "    }\n",
       "\n",
       "    .dataframe thead th {\n",
       "        text-align: right;\n",
       "    }\n",
       "</style>\n",
       "<table border=\"1\" class=\"dataframe\">\n",
       "  <thead>\n",
       "    <tr style=\"text-align: right;\">\n",
       "      <th></th>\n",
       "      <th>customerNumber</th>\n",
       "      <th>customerName</th>\n",
       "      <th>contactLastName</th>\n",
       "      <th>contactFirstName</th>\n",
       "      <th>phone</th>\n",
       "      <th>addressLine1</th>\n",
       "      <th>addressLine2</th>\n",
       "      <th>city</th>\n",
       "      <th>state</th>\n",
       "      <th>postalCode</th>\n",
       "      <th>country</th>\n",
       "      <th>salesRepEmployeeNumber</th>\n",
       "      <th>creditLimit</th>\n",
       "    </tr>\n",
       "  </thead>\n",
       "  <tbody>\n",
       "    <tr>\n",
       "      <th>0</th>\n",
       "      <td>114</td>\n",
       "      <td>Australian Collectors, Co.</td>\n",
       "      <td>Ferguson</td>\n",
       "      <td>Peter</td>\n",
       "      <td>03 9520 4555</td>\n",
       "      <td>636 St Kilda Road</td>\n",
       "      <td>Level 3</td>\n",
       "      <td>Melbourne</td>\n",
       "      <td>Victoria</td>\n",
       "      <td>3004</td>\n",
       "      <td>Australia</td>\n",
       "      <td>1611.0</td>\n",
       "      <td>117300.00</td>\n",
       "    </tr>\n",
       "    <tr>\n",
       "      <th>1</th>\n",
       "      <td>168</td>\n",
       "      <td>American Souvenirs Inc</td>\n",
       "      <td>Franco</td>\n",
       "      <td>Keith</td>\n",
       "      <td>2035557845</td>\n",
       "      <td>149 Spinnaker Dr.</td>\n",
       "      <td>Suite 101</td>\n",
       "      <td>New Haven</td>\n",
       "      <td>CT</td>\n",
       "      <td>97823</td>\n",
       "      <td>USA</td>\n",
       "      <td>1286.0</td>\n",
       "      <td>0.00</td>\n",
       "    </tr>\n",
       "    <tr>\n",
       "      <th>2</th>\n",
       "      <td>187</td>\n",
       "      <td>AV Stores, Co.</td>\n",
       "      <td>Ashworth</td>\n",
       "      <td>Rachel</td>\n",
       "      <td>(171) 555-1555</td>\n",
       "      <td>Fauntleroy Circus</td>\n",
       "      <td>None</td>\n",
       "      <td>Manchester</td>\n",
       "      <td>None</td>\n",
       "      <td>EC2 5NT</td>\n",
       "      <td>UK</td>\n",
       "      <td>1501.0</td>\n",
       "      <td>136800.00</td>\n",
       "    </tr>\n",
       "    <tr>\n",
       "      <th>3</th>\n",
       "      <td>198</td>\n",
       "      <td>Auto-Moto Classics Inc.</td>\n",
       "      <td>Taylor</td>\n",
       "      <td>Leslie</td>\n",
       "      <td>6175558428</td>\n",
       "      <td>16780 Pompton St.</td>\n",
       "      <td>None</td>\n",
       "      <td>Brickhaven</td>\n",
       "      <td>MA</td>\n",
       "      <td>58339</td>\n",
       "      <td>USA</td>\n",
       "      <td>1216.0</td>\n",
       "      <td>23000.00</td>\n",
       "    </tr>\n",
       "    <tr>\n",
       "      <th>4</th>\n",
       "      <td>206</td>\n",
       "      <td>Asian Shopping Network, Co</td>\n",
       "      <td>Walker</td>\n",
       "      <td>Brydey</td>\n",
       "      <td>+612 9411 1555</td>\n",
       "      <td>Suntec Tower Three</td>\n",
       "      <td>8 Temasek</td>\n",
       "      <td>Singapore</td>\n",
       "      <td>None</td>\n",
       "      <td>038988</td>\n",
       "      <td>Singapore</td>\n",
       "      <td>NaN</td>\n",
       "      <td>0.00</td>\n",
       "    </tr>\n",
       "  </tbody>\n",
       "</table>\n",
       "</div>"
      ],
      "text/plain": [
       "   customerNumber                customerName contactLastName  \\\n",
       "0             114  Australian Collectors, Co.        Ferguson   \n",
       "1             168      American Souvenirs Inc          Franco   \n",
       "2             187              AV Stores, Co.        Ashworth   \n",
       "3             198     Auto-Moto Classics Inc.          Taylor   \n",
       "4             206  Asian Shopping Network, Co          Walker   \n",
       "\n",
       "  contactFirstName           phone        addressLine1 addressLine2  \\\n",
       "0            Peter    03 9520 4555   636 St Kilda Road      Level 3   \n",
       "1            Keith      2035557845   149 Spinnaker Dr.    Suite 101   \n",
       "2           Rachel  (171) 555-1555   Fauntleroy Circus         None   \n",
       "3           Leslie      6175558428   16780 Pompton St.         None   \n",
       "4           Brydey  +612 9411 1555  Suntec Tower Three    8 Temasek   \n",
       "\n",
       "         city     state postalCode    country  salesRepEmployeeNumber  \\\n",
       "0   Melbourne  Victoria       3004  Australia                  1611.0   \n",
       "1   New Haven        CT      97823        USA                  1286.0   \n",
       "2  Manchester      None    EC2 5NT         UK                  1501.0   \n",
       "3  Brickhaven        MA      58339        USA                  1216.0   \n",
       "4   Singapore      None     038988  Singapore                     NaN   \n",
       "\n",
       "  creditLimit  \n",
       "0   117300.00  \n",
       "1        0.00  \n",
       "2   136800.00  \n",
       "3    23000.00  \n",
       "4        0.00  "
      ]
     },
     "execution_count": 115,
     "metadata": {},
     "output_type": "execute_result"
    }
   ],
   "source": [
    "# Selecting all customers with a name starting with \"a\"\n",
    "query=\"\"\"SELECT * \n",
    " FROM customers\n",
    " WHERE customerName LIKE 'a%';\"\"\"\n",
    "mycursor.execute(query)\n",
    "output=mycursor.fetchall()\n",
    "df=pd.DataFrame(output,columns=[\"customerNumber\",\"customerName\",\"contactLastName\",\"contactFirstName\",\"phone\",\"addressLine1\",\"addressLine2\",\"city\",\"state\",\"postalCode\",\"country\",\"salesRepEmployeeNumber\",\"creditLimit\"])\n",
    "df.head()"
   ]
  },
  {
   "cell_type": "code",
   "execution_count": 117,
   "metadata": {},
   "outputs": [
    {
     "data": {
      "text/html": [
       "<div>\n",
       "<style scoped>\n",
       "    .dataframe tbody tr th:only-of-type {\n",
       "        vertical-align: middle;\n",
       "    }\n",
       "\n",
       "    .dataframe tbody tr th {\n",
       "        vertical-align: top;\n",
       "    }\n",
       "\n",
       "    .dataframe thead th {\n",
       "        text-align: right;\n",
       "    }\n",
       "</style>\n",
       "<table border=\"1\" class=\"dataframe\">\n",
       "  <thead>\n",
       "    <tr style=\"text-align: right;\">\n",
       "      <th></th>\n",
       "      <th>customerNumber</th>\n",
       "      <th>customerName</th>\n",
       "      <th>contactLastName</th>\n",
       "      <th>contactFirstName</th>\n",
       "      <th>phone</th>\n",
       "      <th>addressLine1</th>\n",
       "      <th>addressLine2</th>\n",
       "      <th>city</th>\n",
       "      <th>state</th>\n",
       "      <th>postalCode</th>\n",
       "      <th>country</th>\n",
       "      <th>salesRepEmployeeNumber</th>\n",
       "      <th>creditLimit</th>\n",
       "    </tr>\n",
       "  </thead>\n",
       "  <tbody>\n",
       "    <tr>\n",
       "      <th>0</th>\n",
       "      <td>151</td>\n",
       "      <td>Muscle Machine Inc</td>\n",
       "      <td>Young</td>\n",
       "      <td>Jeff</td>\n",
       "      <td>2125557413</td>\n",
       "      <td>4092 Furth Circle</td>\n",
       "      <td>Suite 400</td>\n",
       "      <td>NYC</td>\n",
       "      <td>NY</td>\n",
       "      <td>10022</td>\n",
       "      <td>USA</td>\n",
       "      <td>1286.0</td>\n",
       "      <td>138500.00</td>\n",
       "    </tr>\n",
       "    <tr>\n",
       "      <th>1</th>\n",
       "      <td>168</td>\n",
       "      <td>American Souvenirs Inc</td>\n",
       "      <td>Franco</td>\n",
       "      <td>Keith</td>\n",
       "      <td>2035557845</td>\n",
       "      <td>149 Spinnaker Dr.</td>\n",
       "      <td>Suite 101</td>\n",
       "      <td>New Haven</td>\n",
       "      <td>CT</td>\n",
       "      <td>97823</td>\n",
       "      <td>USA</td>\n",
       "      <td>1286.0</td>\n",
       "      <td>0.00</td>\n",
       "    </tr>\n",
       "    <tr>\n",
       "      <th>2</th>\n",
       "      <td>242</td>\n",
       "      <td>Alpha Cognac</td>\n",
       "      <td>Roulet</td>\n",
       "      <td>Annette</td>\n",
       "      <td>61.77.6555</td>\n",
       "      <td>1 rue Alsace-Lorraine</td>\n",
       "      <td>None</td>\n",
       "      <td>Toulouse</td>\n",
       "      <td>None</td>\n",
       "      <td>31000</td>\n",
       "      <td>France</td>\n",
       "      <td>1370.0</td>\n",
       "      <td>61100.00</td>\n",
       "    </tr>\n",
       "    <tr>\n",
       "      <th>3</th>\n",
       "      <td>323</td>\n",
       "      <td>Down Under Souveniers, Inc</td>\n",
       "      <td>Graham</td>\n",
       "      <td>Mike</td>\n",
       "      <td>+64 9 312 5555</td>\n",
       "      <td>162-164 Grafton Road</td>\n",
       "      <td>Level 2</td>\n",
       "      <td>Auckland</td>\n",
       "      <td>None</td>\n",
       "      <td>None</td>\n",
       "      <td>New Zealand</td>\n",
       "      <td>1612.0</td>\n",
       "      <td>88000.00</td>\n",
       "    </tr>\n",
       "    <tr>\n",
       "      <th>4</th>\n",
       "      <td>339</td>\n",
       "      <td>Classic Gift Ideas, Inc</td>\n",
       "      <td>Cervantes</td>\n",
       "      <td>Francisca</td>\n",
       "      <td>2155554695</td>\n",
       "      <td>782 First Street</td>\n",
       "      <td>None</td>\n",
       "      <td>Philadelphia</td>\n",
       "      <td>PA</td>\n",
       "      <td>71270</td>\n",
       "      <td>USA</td>\n",
       "      <td>1188.0</td>\n",
       "      <td>81100.00</td>\n",
       "    </tr>\n",
       "  </tbody>\n",
       "</table>\n",
       "</div>"
      ],
      "text/plain": [
       "   customerNumber                customerName contactLastName  \\\n",
       "0             151          Muscle Machine Inc           Young   \n",
       "1             168      American Souvenirs Inc          Franco   \n",
       "2             242                Alpha Cognac          Roulet   \n",
       "3             323  Down Under Souveniers, Inc          Graham   \n",
       "4             339     Classic Gift Ideas, Inc       Cervantes   \n",
       "\n",
       "  contactFirstName           phone           addressLine1 addressLine2  \\\n",
       "0             Jeff      2125557413      4092 Furth Circle    Suite 400   \n",
       "1            Keith      2035557845      149 Spinnaker Dr.    Suite 101   \n",
       "2         Annette       61.77.6555  1 rue Alsace-Lorraine         None   \n",
       "3             Mike  +64 9 312 5555   162-164 Grafton Road      Level 2   \n",
       "4        Francisca      2155554695       782 First Street         None   \n",
       "\n",
       "           city state postalCode      country  salesRepEmployeeNumber  \\\n",
       "0           NYC    NY      10022          USA                  1286.0   \n",
       "1     New Haven    CT      97823          USA                  1286.0   \n",
       "2      Toulouse  None      31000       France                  1370.0   \n",
       "3    Auckland    None       None  New Zealand                  1612.0   \n",
       "4  Philadelphia    PA      71270          USA                  1188.0   \n",
       "\n",
       "  creditLimit  \n",
       "0   138500.00  \n",
       "1        0.00  \n",
       "2    61100.00  \n",
       "3    88000.00  \n",
       "4    81100.00  "
      ]
     },
     "execution_count": 117,
     "metadata": {},
     "output_type": "execute_result"
    }
   ],
   "source": [
    "# Selecting all customers with a name ending with \"c\"\n",
    "query=\"\"\"SELECT *\n",
    "    FROM customers\n",
    "    WHERE customerName LIKE '%c';\"\"\"\n",
    "mycursor.execute(query)\n",
    "output=mycursor.fetchall()\n",
    "df=pd.DataFrame(output,columns=[\"customerNumber\",\"customerName\",\"contactLastName\",\"contactFirstName\",\"phone\",\"addressLine1\",\"addressLine2\",\"city\",\"state\",\"postalCode\",\"country\",\"salesRepEmployeeNumber\",\"creditLimit\"])\n",
    "df.head()"
   ]
  },
  {
   "cell_type": "code",
   "execution_count": 118,
   "metadata": {},
   "outputs": [
    {
     "data": {
      "text/html": [
       "<div>\n",
       "<style scoped>\n",
       "    .dataframe tbody tr th:only-of-type {\n",
       "        vertical-align: middle;\n",
       "    }\n",
       "\n",
       "    .dataframe tbody tr th {\n",
       "        vertical-align: top;\n",
       "    }\n",
       "\n",
       "    .dataframe thead th {\n",
       "        text-align: right;\n",
       "    }\n",
       "</style>\n",
       "<table border=\"1\" class=\"dataframe\">\n",
       "  <thead>\n",
       "    <tr style=\"text-align: right;\">\n",
       "      <th></th>\n",
       "      <th>customerNumber</th>\n",
       "      <th>customerName</th>\n",
       "      <th>contactLastName</th>\n",
       "      <th>contactFirstName</th>\n",
       "      <th>phone</th>\n",
       "      <th>addressLine1</th>\n",
       "      <th>addressLine2</th>\n",
       "      <th>city</th>\n",
       "      <th>state</th>\n",
       "      <th>postalCode</th>\n",
       "      <th>country</th>\n",
       "      <th>salesRepEmployeeNumber</th>\n",
       "      <th>creditLimit</th>\n",
       "    </tr>\n",
       "  </thead>\n",
       "  <tbody>\n",
       "    <tr>\n",
       "      <th>0</th>\n",
       "      <td>114</td>\n",
       "      <td>Australian Collectors, Co.</td>\n",
       "      <td>Ferguson</td>\n",
       "      <td>Peter</td>\n",
       "      <td>03 9520 4555</td>\n",
       "      <td>636 St Kilda Road</td>\n",
       "      <td>Level 3</td>\n",
       "      <td>Melbourne</td>\n",
       "      <td>Victoria</td>\n",
       "      <td>3004</td>\n",
       "      <td>Australia</td>\n",
       "      <td>1611.0</td>\n",
       "      <td>117300.00</td>\n",
       "    </tr>\n",
       "    <tr>\n",
       "      <th>1</th>\n",
       "      <td>119</td>\n",
       "      <td>La Rochelle Gifts</td>\n",
       "      <td>Labrune</td>\n",
       "      <td>Janine</td>\n",
       "      <td>40.67.8555</td>\n",
       "      <td>67, rue des Cinquante Otages</td>\n",
       "      <td>None</td>\n",
       "      <td>Nantes</td>\n",
       "      <td>None</td>\n",
       "      <td>44000</td>\n",
       "      <td>France</td>\n",
       "      <td>1370.0</td>\n",
       "      <td>118200.00</td>\n",
       "    </tr>\n",
       "    <tr>\n",
       "      <th>2</th>\n",
       "      <td>125</td>\n",
       "      <td>Havel &amp; Zbyszek Co</td>\n",
       "      <td>Piestrzeniewicz</td>\n",
       "      <td>Zbyszek</td>\n",
       "      <td>(26) 642-7555</td>\n",
       "      <td>ul. Filtrowa 68</td>\n",
       "      <td>None</td>\n",
       "      <td>Warszawa</td>\n",
       "      <td>None</td>\n",
       "      <td>01-012</td>\n",
       "      <td>Poland</td>\n",
       "      <td>NaN</td>\n",
       "      <td>0.00</td>\n",
       "    </tr>\n",
       "    <tr>\n",
       "      <th>3</th>\n",
       "      <td>128</td>\n",
       "      <td>Blauer See Auto, Co.</td>\n",
       "      <td>Keitel</td>\n",
       "      <td>Roland</td>\n",
       "      <td>+49 69 66 90 2555</td>\n",
       "      <td>Lyonerstr. 34</td>\n",
       "      <td>None</td>\n",
       "      <td>Frankfurt</td>\n",
       "      <td>None</td>\n",
       "      <td>60528</td>\n",
       "      <td>Germany</td>\n",
       "      <td>1504.0</td>\n",
       "      <td>59700.00</td>\n",
       "    </tr>\n",
       "    <tr>\n",
       "      <th>4</th>\n",
       "      <td>129</td>\n",
       "      <td>Mini Wheels Co.</td>\n",
       "      <td>Murphy</td>\n",
       "      <td>Julie</td>\n",
       "      <td>6505555787</td>\n",
       "      <td>5557 North Pendale Street</td>\n",
       "      <td>None</td>\n",
       "      <td>San Francisco</td>\n",
       "      <td>CA</td>\n",
       "      <td>94217</td>\n",
       "      <td>USA</td>\n",
       "      <td>1165.0</td>\n",
       "      <td>64600.00</td>\n",
       "    </tr>\n",
       "  </tbody>\n",
       "</table>\n",
       "</div>"
      ],
      "text/plain": [
       "   customerNumber                customerName  contactLastName  \\\n",
       "0             114  Australian Collectors, Co.         Ferguson   \n",
       "1             119           La Rochelle Gifts          Labrune   \n",
       "2             125          Havel & Zbyszek Co  Piestrzeniewicz   \n",
       "3             128        Blauer See Auto, Co.           Keitel   \n",
       "4             129             Mini Wheels Co.           Murphy   \n",
       "\n",
       "  contactFirstName              phone                  addressLine1  \\\n",
       "0            Peter       03 9520 4555             636 St Kilda Road   \n",
       "1          Janine          40.67.8555  67, rue des Cinquante Otages   \n",
       "2         Zbyszek       (26) 642-7555               ul. Filtrowa 68   \n",
       "3           Roland  +49 69 66 90 2555                 Lyonerstr. 34   \n",
       "4            Julie         6505555787     5557 North Pendale Street   \n",
       "\n",
       "  addressLine2           city     state postalCode    country  \\\n",
       "0      Level 3      Melbourne  Victoria       3004  Australia   \n",
       "1         None         Nantes      None      44000     France   \n",
       "2         None       Warszawa      None     01-012     Poland   \n",
       "3         None      Frankfurt      None      60528    Germany   \n",
       "4         None  San Francisco        CA      94217        USA   \n",
       "\n",
       "   salesRepEmployeeNumber creditLimit  \n",
       "0                  1611.0   117300.00  \n",
       "1                  1370.0   118200.00  \n",
       "2                     NaN        0.00  \n",
       "3                  1504.0    59700.00  \n",
       "4                  1165.0    64600.00  "
      ]
     },
     "execution_count": 118,
     "metadata": {},
     "output_type": "execute_result"
    }
   ],
   "source": [
    "# Selecting all customers with a name that contains a \"c\"\n",
    "query=\"\"\"SELECT *\n",
    "    FROM customers\n",
    "    WHERE customerName LIKE '%c%';\"\"\"\n",
    "mycursor.execute(query)\n",
    "output=mycursor.fetchall()\n",
    "df=pd.DataFrame(output,columns=[\"customerNumber\",\"customerName\",\"contactLastName\",\"contactFirstName\",\"phone\",\"addressLine1\",\"addressLine2\",\"city\",\"state\",\"postalCode\",\"country\",\"salesRepEmployeeNumber\",\"creditLimit\"])\n",
    "df.head()"
   ]
  },
  {
   "cell_type": "code",
   "execution_count": 119,
   "metadata": {},
   "outputs": [
    {
     "data": {
      "text/html": [
       "<div>\n",
       "<style scoped>\n",
       "    .dataframe tbody tr th:only-of-type {\n",
       "        vertical-align: middle;\n",
       "    }\n",
       "\n",
       "    .dataframe tbody tr th {\n",
       "        vertical-align: top;\n",
       "    }\n",
       "\n",
       "    .dataframe thead th {\n",
       "        text-align: right;\n",
       "    }\n",
       "</style>\n",
       "<table border=\"1\" class=\"dataframe\">\n",
       "  <thead>\n",
       "    <tr style=\"text-align: right;\">\n",
       "      <th></th>\n",
       "      <th>customerNumber</th>\n",
       "      <th>customerName</th>\n",
       "      <th>contactLastName</th>\n",
       "      <th>contactFirstName</th>\n",
       "      <th>phone</th>\n",
       "      <th>addressLine1</th>\n",
       "      <th>addressLine2</th>\n",
       "      <th>city</th>\n",
       "      <th>state</th>\n",
       "      <th>postalCode</th>\n",
       "      <th>country</th>\n",
       "      <th>salesRepEmployeeNumber</th>\n",
       "      <th>creditLimit</th>\n",
       "    </tr>\n",
       "  </thead>\n",
       "  <tbody>\n",
       "    <tr>\n",
       "      <th>0</th>\n",
       "      <td>168</td>\n",
       "      <td>American Souvenirs Inc</td>\n",
       "      <td>Franco</td>\n",
       "      <td>Keith</td>\n",
       "      <td>2035557845</td>\n",
       "      <td>149 Spinnaker Dr.</td>\n",
       "      <td>Suite 101</td>\n",
       "      <td>New Haven</td>\n",
       "      <td>CT</td>\n",
       "      <td>97823</td>\n",
       "      <td>USA</td>\n",
       "      <td>1286</td>\n",
       "      <td>0.00</td>\n",
       "    </tr>\n",
       "    <tr>\n",
       "      <th>1</th>\n",
       "      <td>242</td>\n",
       "      <td>Alpha Cognac</td>\n",
       "      <td>Roulet</td>\n",
       "      <td>Annette</td>\n",
       "      <td>61.77.6555</td>\n",
       "      <td>1 rue Alsace-Lorraine</td>\n",
       "      <td>None</td>\n",
       "      <td>Toulouse</td>\n",
       "      <td>None</td>\n",
       "      <td>31000</td>\n",
       "      <td>France</td>\n",
       "      <td>1370</td>\n",
       "      <td>61100.00</td>\n",
       "    </tr>\n",
       "  </tbody>\n",
       "</table>\n",
       "</div>"
      ],
      "text/plain": [
       "   customerNumber            customerName contactLastName contactFirstName  \\\n",
       "0             168  American Souvenirs Inc          Franco            Keith   \n",
       "1             242            Alpha Cognac          Roulet         Annette    \n",
       "\n",
       "        phone           addressLine1 addressLine2       city state postalCode  \\\n",
       "0  2035557845      149 Spinnaker Dr.    Suite 101  New Haven    CT      97823   \n",
       "1  61.77.6555  1 rue Alsace-Lorraine         None   Toulouse  None      31000   \n",
       "\n",
       "  country  salesRepEmployeeNumber creditLimit  \n",
       "0     USA                    1286        0.00  \n",
       "1  France                    1370    61100.00  "
      ]
     },
     "execution_count": 119,
     "metadata": {},
     "output_type": "execute_result"
    }
   ],
   "source": [
    "# Selecting all customers with a name that starts with an a \"a\" and ends with a \"c\"\n",
    "query=\"\"\"SELECT *\n",
    "    FROM customers\n",
    "    WHERE customerName LIKE 'a%c';\"\"\"\n",
    "mycursor.execute(query)\n",
    "output=mycursor.fetchall()\n",
    "df=pd.DataFrame(output,columns=[\"customerNumber\",\"customerName\",\"contactLastName\",\"contactFirstName\",\"phone\",\"addressLine1\",\"addressLine2\",\"city\",\"state\",\"postalCode\",\"country\",\"salesRepEmployeeNumber\",\"creditLimit\"])\n",
    "df.head()"
   ]
  },
  {
   "cell_type": "code",
   "execution_count": 122,
   "metadata": {},
   "outputs": [
    {
     "data": {
      "text/html": [
       "<div>\n",
       "<style scoped>\n",
       "    .dataframe tbody tr th:only-of-type {\n",
       "        vertical-align: middle;\n",
       "    }\n",
       "\n",
       "    .dataframe tbody tr th {\n",
       "        vertical-align: top;\n",
       "    }\n",
       "\n",
       "    .dataframe thead th {\n",
       "        text-align: right;\n",
       "    }\n",
       "</style>\n",
       "<table border=\"1\" class=\"dataframe\">\n",
       "  <thead>\n",
       "    <tr style=\"text-align: right;\">\n",
       "      <th></th>\n",
       "      <th>customerNumber</th>\n",
       "      <th>customerName</th>\n",
       "      <th>contactLastName</th>\n",
       "      <th>contactFirstName</th>\n",
       "      <th>phone</th>\n",
       "      <th>addressLine1</th>\n",
       "      <th>addressLine2</th>\n",
       "      <th>city</th>\n",
       "      <th>state</th>\n",
       "      <th>postalCode</th>\n",
       "      <th>country</th>\n",
       "      <th>salesRepEmployeeNumber</th>\n",
       "      <th>creditLimit</th>\n",
       "    </tr>\n",
       "  </thead>\n",
       "  <tbody>\n",
       "    <tr>\n",
       "      <th>0</th>\n",
       "      <td>103</td>\n",
       "      <td>David Davalos</td>\n",
       "      <td>Schmitt</td>\n",
       "      <td>Carine</td>\n",
       "      <td>40.32.2555</td>\n",
       "      <td>54, rue Royale</td>\n",
       "      <td>None</td>\n",
       "      <td>London</td>\n",
       "      <td>None</td>\n",
       "      <td>44000</td>\n",
       "      <td>France</td>\n",
       "      <td>1370.0</td>\n",
       "      <td>21000.00</td>\n",
       "    </tr>\n",
       "    <tr>\n",
       "      <th>1</th>\n",
       "      <td>112</td>\n",
       "      <td>Signal Gift Stores</td>\n",
       "      <td>King</td>\n",
       "      <td>Jean</td>\n",
       "      <td>7025551838</td>\n",
       "      <td>8489 Strong St.</td>\n",
       "      <td>None</td>\n",
       "      <td>Las Vegas</td>\n",
       "      <td>NV</td>\n",
       "      <td>83030</td>\n",
       "      <td>USA</td>\n",
       "      <td>1166.0</td>\n",
       "      <td>71800.00</td>\n",
       "    </tr>\n",
       "    <tr>\n",
       "      <th>2</th>\n",
       "      <td>119</td>\n",
       "      <td>La Rochelle Gifts</td>\n",
       "      <td>Labrune</td>\n",
       "      <td>Janine</td>\n",
       "      <td>40.67.8555</td>\n",
       "      <td>67, rue des Cinquante Otages</td>\n",
       "      <td>None</td>\n",
       "      <td>Nantes</td>\n",
       "      <td>None</td>\n",
       "      <td>44000</td>\n",
       "      <td>France</td>\n",
       "      <td>1370.0</td>\n",
       "      <td>118200.00</td>\n",
       "    </tr>\n",
       "    <tr>\n",
       "      <th>3</th>\n",
       "      <td>121</td>\n",
       "      <td>Baane Mini Imports</td>\n",
       "      <td>Bergulfsen</td>\n",
       "      <td>Jonas</td>\n",
       "      <td>07-98 9555</td>\n",
       "      <td>Erling Skakkes gate 78</td>\n",
       "      <td>None</td>\n",
       "      <td>Stavern</td>\n",
       "      <td>None</td>\n",
       "      <td>4110</td>\n",
       "      <td>Norway</td>\n",
       "      <td>1504.0</td>\n",
       "      <td>81700.00</td>\n",
       "    </tr>\n",
       "    <tr>\n",
       "      <th>4</th>\n",
       "      <td>124</td>\n",
       "      <td>Mini Gifts Distributors Ltd.</td>\n",
       "      <td>Nelson</td>\n",
       "      <td>Susan</td>\n",
       "      <td>4155551450</td>\n",
       "      <td>5677 Strong St.</td>\n",
       "      <td>None</td>\n",
       "      <td>San Rafael</td>\n",
       "      <td>CA</td>\n",
       "      <td>97562</td>\n",
       "      <td>USA</td>\n",
       "      <td>1165.0</td>\n",
       "      <td>210500.00</td>\n",
       "    </tr>\n",
       "  </tbody>\n",
       "</table>\n",
       "</div>"
      ],
      "text/plain": [
       "   customerNumber                  customerName contactLastName  \\\n",
       "0             103                 David Davalos         Schmitt   \n",
       "1             112            Signal Gift Stores            King   \n",
       "2             119             La Rochelle Gifts         Labrune   \n",
       "3             121            Baane Mini Imports      Bergulfsen   \n",
       "4             124  Mini Gifts Distributors Ltd.          Nelson   \n",
       "\n",
       "  contactFirstName       phone                  addressLine1 addressLine2  \\\n",
       "0          Carine   40.32.2555                54, rue Royale         None   \n",
       "1             Jean  7025551838               8489 Strong St.         None   \n",
       "2          Janine   40.67.8555  67, rue des Cinquante Otages         None   \n",
       "3           Jonas   07-98 9555        Erling Skakkes gate 78         None   \n",
       "4            Susan  4155551450               5677 Strong St.         None   \n",
       "\n",
       "         city state postalCode country  salesRepEmployeeNumber creditLimit  \n",
       "0      London  None      44000  France                  1370.0    21000.00  \n",
       "1   Las Vegas    NV      83030     USA                  1166.0    71800.00  \n",
       "2      Nantes  None      44000  France                  1370.0   118200.00  \n",
       "3     Stavern  None       4110  Norway                  1504.0    81700.00  \n",
       "4  San Rafael    CA      97562     USA                  1165.0   210500.00  "
      ]
     },
     "execution_count": 122,
     "metadata": {},
     "output_type": "execute_result"
    }
   ],
   "source": [
    "# Selecting all customers with a name that do not start with \"a\"\n",
    "query=\"\"\"SELECT *\n",
    "    FROM customers\n",
    "    WHERE customerName NOT LIKE 'a%';\"\"\"\n",
    "mycursor.execute(query)\n",
    "output=mycursor.fetchall()\n",
    "df=pd.DataFrame(output,columns=[\"customerNumber\",\"customerName\",\"contactLastName\",\"contactFirstName\",\"phone\",\"addressLine1\",\"addressLine2\",\"city\",\"state\",\"postalCode\",\"country\",\"salesRepEmployeeNumber\",\"creditLimit\"])\n",
    "df.head()"
   ]
  },
  {
   "cell_type": "code",
   "execution_count": 124,
   "metadata": {},
   "outputs": [
    {
     "data": {
      "text/html": [
       "<div>\n",
       "<style scoped>\n",
       "    .dataframe tbody tr th:only-of-type {\n",
       "        vertical-align: middle;\n",
       "    }\n",
       "\n",
       "    .dataframe tbody tr th {\n",
       "        vertical-align: top;\n",
       "    }\n",
       "\n",
       "    .dataframe thead th {\n",
       "        text-align: right;\n",
       "    }\n",
       "</style>\n",
       "<table border=\"1\" class=\"dataframe\">\n",
       "  <thead>\n",
       "    <tr style=\"text-align: right;\">\n",
       "      <th></th>\n",
       "      <th>customerNumber</th>\n",
       "      <th>customerName</th>\n",
       "      <th>contactLastName</th>\n",
       "      <th>contactFirstName</th>\n",
       "      <th>phone</th>\n",
       "      <th>addressLine1</th>\n",
       "      <th>addressLine2</th>\n",
       "      <th>city</th>\n",
       "      <th>state</th>\n",
       "      <th>postalCode</th>\n",
       "      <th>country</th>\n",
       "      <th>salesRepEmployeeNumber</th>\n",
       "      <th>creditLimit</th>\n",
       "    </tr>\n",
       "  </thead>\n",
       "  <tbody>\n",
       "    <tr>\n",
       "      <th>0</th>\n",
       "      <td>103</td>\n",
       "      <td>David Davalos</td>\n",
       "      <td>Schmitt</td>\n",
       "      <td>Carine</td>\n",
       "      <td>40.32.2555</td>\n",
       "      <td>54, rue Royale</td>\n",
       "      <td>None</td>\n",
       "      <td>London</td>\n",
       "      <td>None</td>\n",
       "      <td>44000</td>\n",
       "      <td>France</td>\n",
       "      <td>1370.0</td>\n",
       "      <td>21000.00</td>\n",
       "    </tr>\n",
       "    <tr>\n",
       "      <th>1</th>\n",
       "      <td>119</td>\n",
       "      <td>La Rochelle Gifts</td>\n",
       "      <td>Labrune</td>\n",
       "      <td>Janine</td>\n",
       "      <td>40.67.8555</td>\n",
       "      <td>67, rue des Cinquante Otages</td>\n",
       "      <td>None</td>\n",
       "      <td>Nantes</td>\n",
       "      <td>None</td>\n",
       "      <td>44000</td>\n",
       "      <td>France</td>\n",
       "      <td>1370.0</td>\n",
       "      <td>118200.00</td>\n",
       "    </tr>\n",
       "    <tr>\n",
       "      <th>2</th>\n",
       "      <td>121</td>\n",
       "      <td>Baane Mini Imports</td>\n",
       "      <td>Bergulfsen</td>\n",
       "      <td>Jonas</td>\n",
       "      <td>07-98 9555</td>\n",
       "      <td>Erling Skakkes gate 78</td>\n",
       "      <td>None</td>\n",
       "      <td>Stavern</td>\n",
       "      <td>None</td>\n",
       "      <td>4110</td>\n",
       "      <td>Norway</td>\n",
       "      <td>1504.0</td>\n",
       "      <td>81700.00</td>\n",
       "    </tr>\n",
       "    <tr>\n",
       "      <th>3</th>\n",
       "      <td>125</td>\n",
       "      <td>Havel &amp; Zbyszek Co</td>\n",
       "      <td>Piestrzeniewicz</td>\n",
       "      <td>Zbyszek</td>\n",
       "      <td>(26) 642-7555</td>\n",
       "      <td>ul. Filtrowa 68</td>\n",
       "      <td>None</td>\n",
       "      <td>Warszawa</td>\n",
       "      <td>None</td>\n",
       "      <td>01-012</td>\n",
       "      <td>Poland</td>\n",
       "      <td>NaN</td>\n",
       "      <td>0.00</td>\n",
       "    </tr>\n",
       "    <tr>\n",
       "      <th>4</th>\n",
       "      <td>131</td>\n",
       "      <td>Land of Toys Inc.</td>\n",
       "      <td>Lee</td>\n",
       "      <td>Kwai</td>\n",
       "      <td>2125557818</td>\n",
       "      <td>897 Long Airport Avenue</td>\n",
       "      <td>None</td>\n",
       "      <td>NYC</td>\n",
       "      <td>NY</td>\n",
       "      <td>10022</td>\n",
       "      <td>USA</td>\n",
       "      <td>1323.0</td>\n",
       "      <td>114900.00</td>\n",
       "    </tr>\n",
       "  </tbody>\n",
       "</table>\n",
       "</div>"
      ],
      "text/plain": [
       "   customerNumber        customerName  contactLastName contactFirstName  \\\n",
       "0             103       David Davalos          Schmitt          Carine    \n",
       "1             119   La Rochelle Gifts          Labrune          Janine    \n",
       "2             121  Baane Mini Imports       Bergulfsen           Jonas    \n",
       "3             125  Havel & Zbyszek Co  Piestrzeniewicz         Zbyszek    \n",
       "4             131   Land of Toys Inc.              Lee             Kwai   \n",
       "\n",
       "           phone                  addressLine1 addressLine2      city state  \\\n",
       "0     40.32.2555                54, rue Royale         None    London  None   \n",
       "1     40.67.8555  67, rue des Cinquante Otages         None    Nantes  None   \n",
       "2     07-98 9555        Erling Skakkes gate 78         None   Stavern  None   \n",
       "3  (26) 642-7555               ul. Filtrowa 68         None  Warszawa  None   \n",
       "4     2125557818       897 Long Airport Avenue         None       NYC    NY   \n",
       "\n",
       "  postalCode country  salesRepEmployeeNumber creditLimit  \n",
       "0      44000  France                  1370.0    21000.00  \n",
       "1      44000  France                  1370.0   118200.00  \n",
       "2       4110  Norway                  1504.0    81700.00  \n",
       "3     01-012  Poland                     NaN        0.00  \n",
       "4      10022     USA                  1323.0   114900.00  "
      ]
     },
     "execution_count": 124,
     "metadata": {},
     "output_type": "execute_result"
    }
   ],
   "source": [
    "# Selecting all customers with a name where second letter is \"a\"\n",
    "query=\"\"\"SELECT *\n",
    "    FROM customers\n",
    "    WHERE customerName LIKE '_a%';\"\"\"\n",
    "mycursor.execute(query)\n",
    "output=mycursor.fetchall()\n",
    "df=pd.DataFrame(output,columns=[\"customerNumber\",\"customerName\",\"contactLastName\",\"contactFirstName\",\"phone\",\"addressLine1\",\"addressLine2\",\"city\",\"state\",\"postalCode\",\"country\",\"salesRepEmployeeNumber\",\"creditLimit\"])\n",
    "df.head()"
   ]
  },
  {
   "cell_type": "markdown",
   "metadata": {},
   "source": [
    "## __IN__ operator"
   ]
  },
  {
   "cell_type": "markdown",
   "metadata": {},
   "source": [
    "Allows to specify multiple values in a __WHERE__ clause. It is a shorthand for multiple __OR__ conditions"
   ]
  },
  {
   "cell_type": "code",
   "execution_count": 128,
   "metadata": {},
   "outputs": [
    {
     "data": {
      "text/html": [
       "<div>\n",
       "<style scoped>\n",
       "    .dataframe tbody tr th:only-of-type {\n",
       "        vertical-align: middle;\n",
       "    }\n",
       "\n",
       "    .dataframe tbody tr th {\n",
       "        vertical-align: top;\n",
       "    }\n",
       "\n",
       "    .dataframe thead th {\n",
       "        text-align: right;\n",
       "    }\n",
       "</style>\n",
       "<table border=\"1\" class=\"dataframe\">\n",
       "  <thead>\n",
       "    <tr style=\"text-align: right;\">\n",
       "      <th></th>\n",
       "      <th>customerNumber</th>\n",
       "      <th>customerName</th>\n",
       "      <th>contactLastName</th>\n",
       "      <th>contactFirstName</th>\n",
       "      <th>phone</th>\n",
       "      <th>addressLine1</th>\n",
       "      <th>addressLine2</th>\n",
       "      <th>city</th>\n",
       "      <th>state</th>\n",
       "      <th>postalCode</th>\n",
       "      <th>country</th>\n",
       "      <th>salesRepEmployeeNumber</th>\n",
       "      <th>creditLimit</th>\n",
       "    </tr>\n",
       "  </thead>\n",
       "  <tbody>\n",
       "    <tr>\n",
       "      <th>0</th>\n",
       "      <td>112</td>\n",
       "      <td>Signal Gift Stores</td>\n",
       "      <td>King</td>\n",
       "      <td>Jean</td>\n",
       "      <td>7025551838</td>\n",
       "      <td>8489 Strong St.</td>\n",
       "      <td>None</td>\n",
       "      <td>Las Vegas</td>\n",
       "      <td>NV</td>\n",
       "      <td>83030</td>\n",
       "      <td>USA</td>\n",
       "      <td>1166.0</td>\n",
       "      <td>71800.00</td>\n",
       "    </tr>\n",
       "    <tr>\n",
       "      <th>1</th>\n",
       "      <td>124</td>\n",
       "      <td>Mini Gifts Distributors Ltd.</td>\n",
       "      <td>Nelson</td>\n",
       "      <td>Susan</td>\n",
       "      <td>4155551450</td>\n",
       "      <td>5677 Strong St.</td>\n",
       "      <td>None</td>\n",
       "      <td>San Rafael</td>\n",
       "      <td>CA</td>\n",
       "      <td>97562</td>\n",
       "      <td>USA</td>\n",
       "      <td>1165.0</td>\n",
       "      <td>210500.00</td>\n",
       "    </tr>\n",
       "    <tr>\n",
       "      <th>2</th>\n",
       "      <td>128</td>\n",
       "      <td>Blauer See Auto, Co.</td>\n",
       "      <td>Keitel</td>\n",
       "      <td>Roland</td>\n",
       "      <td>+49 69 66 90 2555</td>\n",
       "      <td>Lyonerstr. 34</td>\n",
       "      <td>None</td>\n",
       "      <td>Frankfurt</td>\n",
       "      <td>None</td>\n",
       "      <td>60528</td>\n",
       "      <td>Germany</td>\n",
       "      <td>1504.0</td>\n",
       "      <td>59700.00</td>\n",
       "    </tr>\n",
       "    <tr>\n",
       "      <th>3</th>\n",
       "      <td>129</td>\n",
       "      <td>Mini Wheels Co.</td>\n",
       "      <td>Murphy</td>\n",
       "      <td>Julie</td>\n",
       "      <td>6505555787</td>\n",
       "      <td>5557 North Pendale Street</td>\n",
       "      <td>None</td>\n",
       "      <td>San Francisco</td>\n",
       "      <td>CA</td>\n",
       "      <td>94217</td>\n",
       "      <td>USA</td>\n",
       "      <td>1165.0</td>\n",
       "      <td>64600.00</td>\n",
       "    </tr>\n",
       "    <tr>\n",
       "      <th>4</th>\n",
       "      <td>131</td>\n",
       "      <td>Land of Toys Inc.</td>\n",
       "      <td>Lee</td>\n",
       "      <td>Kwai</td>\n",
       "      <td>2125557818</td>\n",
       "      <td>897 Long Airport Avenue</td>\n",
       "      <td>None</td>\n",
       "      <td>NYC</td>\n",
       "      <td>NY</td>\n",
       "      <td>10022</td>\n",
       "      <td>USA</td>\n",
       "      <td>1323.0</td>\n",
       "      <td>114900.00</td>\n",
       "    </tr>\n",
       "  </tbody>\n",
       "</table>\n",
       "</div>"
      ],
      "text/plain": [
       "   customerNumber                  customerName contactLastName  \\\n",
       "0             112            Signal Gift Stores            King   \n",
       "1             124  Mini Gifts Distributors Ltd.          Nelson   \n",
       "2             128          Blauer See Auto, Co.          Keitel   \n",
       "3             129               Mini Wheels Co.          Murphy   \n",
       "4             131             Land of Toys Inc.             Lee   \n",
       "\n",
       "  contactFirstName              phone               addressLine1 addressLine2  \\\n",
       "0             Jean         7025551838            8489 Strong St.         None   \n",
       "1            Susan         4155551450            5677 Strong St.         None   \n",
       "2           Roland  +49 69 66 90 2555              Lyonerstr. 34         None   \n",
       "3            Julie         6505555787  5557 North Pendale Street         None   \n",
       "4             Kwai         2125557818    897 Long Airport Avenue         None   \n",
       "\n",
       "            city state postalCode  country  salesRepEmployeeNumber creditLimit  \n",
       "0      Las Vegas    NV      83030      USA                  1166.0    71800.00  \n",
       "1     San Rafael    CA      97562      USA                  1165.0   210500.00  \n",
       "2      Frankfurt  None      60528  Germany                  1504.0    59700.00  \n",
       "3  San Francisco    CA      94217      USA                  1165.0    64600.00  \n",
       "4            NYC    NY      10022      USA                  1323.0   114900.00  "
      ]
     },
     "execution_count": 128,
     "metadata": {},
     "output_type": "execute_result"
    }
   ],
   "source": [
    "query=\"\"\"SELECT *\n",
    "    FROM customers\n",
    "    WHERE country IN ('USA','Germany','Mexico');\"\"\"\n",
    "mycursor.execute(query)\n",
    "output=mycursor.fetchall()\n",
    "df=pd.DataFrame(output,columns=[\"customerNumber\",\"customerName\",\"contactLastName\",\"contactFirstName\",\"phone\",\"addressLine1\",\"addressLine2\",\"city\",\"state\",\"postalCode\",\"country\",\"salesRepEmployeeNumber\",\"creditLimit\"])\n",
    "df.head()"
   ]
  },
  {
   "cell_type": "code",
   "execution_count": 129,
   "metadata": {},
   "outputs": [
    {
     "data": {
      "text/html": [
       "<div>\n",
       "<style scoped>\n",
       "    .dataframe tbody tr th:only-of-type {\n",
       "        vertical-align: middle;\n",
       "    }\n",
       "\n",
       "    .dataframe tbody tr th {\n",
       "        vertical-align: top;\n",
       "    }\n",
       "\n",
       "    .dataframe thead th {\n",
       "        text-align: right;\n",
       "    }\n",
       "</style>\n",
       "<table border=\"1\" class=\"dataframe\">\n",
       "  <thead>\n",
       "    <tr style=\"text-align: right;\">\n",
       "      <th></th>\n",
       "      <th>customerNumber</th>\n",
       "      <th>customerName</th>\n",
       "      <th>contactLastName</th>\n",
       "      <th>contactFirstName</th>\n",
       "      <th>phone</th>\n",
       "      <th>addressLine1</th>\n",
       "      <th>addressLine2</th>\n",
       "      <th>city</th>\n",
       "      <th>state</th>\n",
       "      <th>postalCode</th>\n",
       "      <th>country</th>\n",
       "      <th>salesRepEmployeeNumber</th>\n",
       "      <th>creditLimit</th>\n",
       "    </tr>\n",
       "  </thead>\n",
       "  <tbody>\n",
       "    <tr>\n",
       "      <th>0</th>\n",
       "      <td>103</td>\n",
       "      <td>David Davalos</td>\n",
       "      <td>Schmitt</td>\n",
       "      <td>Carine</td>\n",
       "      <td>40.32.2555</td>\n",
       "      <td>54, rue Royale</td>\n",
       "      <td>None</td>\n",
       "      <td>London</td>\n",
       "      <td>None</td>\n",
       "      <td>44000</td>\n",
       "      <td>France</td>\n",
       "      <td>1370.0</td>\n",
       "      <td>21000.00</td>\n",
       "    </tr>\n",
       "    <tr>\n",
       "      <th>1</th>\n",
       "      <td>114</td>\n",
       "      <td>Australian Collectors, Co.</td>\n",
       "      <td>Ferguson</td>\n",
       "      <td>Peter</td>\n",
       "      <td>03 9520 4555</td>\n",
       "      <td>636 St Kilda Road</td>\n",
       "      <td>Level 3</td>\n",
       "      <td>Melbourne</td>\n",
       "      <td>Victoria</td>\n",
       "      <td>3004</td>\n",
       "      <td>Australia</td>\n",
       "      <td>1611.0</td>\n",
       "      <td>117300.00</td>\n",
       "    </tr>\n",
       "    <tr>\n",
       "      <th>2</th>\n",
       "      <td>119</td>\n",
       "      <td>La Rochelle Gifts</td>\n",
       "      <td>Labrune</td>\n",
       "      <td>Janine</td>\n",
       "      <td>40.67.8555</td>\n",
       "      <td>67, rue des Cinquante Otages</td>\n",
       "      <td>None</td>\n",
       "      <td>Nantes</td>\n",
       "      <td>None</td>\n",
       "      <td>44000</td>\n",
       "      <td>France</td>\n",
       "      <td>1370.0</td>\n",
       "      <td>118200.00</td>\n",
       "    </tr>\n",
       "    <tr>\n",
       "      <th>3</th>\n",
       "      <td>121</td>\n",
       "      <td>Baane Mini Imports</td>\n",
       "      <td>Bergulfsen</td>\n",
       "      <td>Jonas</td>\n",
       "      <td>07-98 9555</td>\n",
       "      <td>Erling Skakkes gate 78</td>\n",
       "      <td>None</td>\n",
       "      <td>Stavern</td>\n",
       "      <td>None</td>\n",
       "      <td>4110</td>\n",
       "      <td>Norway</td>\n",
       "      <td>1504.0</td>\n",
       "      <td>81700.00</td>\n",
       "    </tr>\n",
       "    <tr>\n",
       "      <th>4</th>\n",
       "      <td>125</td>\n",
       "      <td>Havel &amp; Zbyszek Co</td>\n",
       "      <td>Piestrzeniewicz</td>\n",
       "      <td>Zbyszek</td>\n",
       "      <td>(26) 642-7555</td>\n",
       "      <td>ul. Filtrowa 68</td>\n",
       "      <td>None</td>\n",
       "      <td>Warszawa</td>\n",
       "      <td>None</td>\n",
       "      <td>01-012</td>\n",
       "      <td>Poland</td>\n",
       "      <td>NaN</td>\n",
       "      <td>0.00</td>\n",
       "    </tr>\n",
       "  </tbody>\n",
       "</table>\n",
       "</div>"
      ],
      "text/plain": [
       "   customerNumber                customerName  contactLastName  \\\n",
       "0             103               David Davalos          Schmitt   \n",
       "1             114  Australian Collectors, Co.         Ferguson   \n",
       "2             119           La Rochelle Gifts          Labrune   \n",
       "3             121          Baane Mini Imports       Bergulfsen   \n",
       "4             125          Havel & Zbyszek Co  Piestrzeniewicz   \n",
       "\n",
       "  contactFirstName          phone                  addressLine1 addressLine2  \\\n",
       "0          Carine      40.32.2555                54, rue Royale         None   \n",
       "1            Peter   03 9520 4555             636 St Kilda Road      Level 3   \n",
       "2          Janine      40.67.8555  67, rue des Cinquante Otages         None   \n",
       "3           Jonas      07-98 9555        Erling Skakkes gate 78         None   \n",
       "4         Zbyszek   (26) 642-7555               ul. Filtrowa 68         None   \n",
       "\n",
       "        city     state postalCode    country  salesRepEmployeeNumber  \\\n",
       "0     London      None      44000     France                  1370.0   \n",
       "1  Melbourne  Victoria       3004  Australia                  1611.0   \n",
       "2     Nantes      None      44000     France                  1370.0   \n",
       "3    Stavern      None       4110     Norway                  1504.0   \n",
       "4   Warszawa      None     01-012     Poland                     NaN   \n",
       "\n",
       "  creditLimit  \n",
       "0    21000.00  \n",
       "1   117300.00  \n",
       "2   118200.00  \n",
       "3    81700.00  \n",
       "4        0.00  "
      ]
     },
     "execution_count": 129,
     "metadata": {},
     "output_type": "execute_result"
    }
   ],
   "source": [
    "query=\"\"\"SELECT *\n",
    "    FROM customers\n",
    "    WHERE country NOT IN ('USA','Germany','Mexico');\"\"\"\n",
    "mycursor.execute(query)\n",
    "output=mycursor.fetchall()\n",
    "df=pd.DataFrame(output,columns=[\"customerNumber\",\"customerName\",\"contactLastName\",\"contactFirstName\",\"phone\",\"addressLine1\",\"addressLine2\",\"city\",\"state\",\"postalCode\",\"country\",\"salesRepEmployeeNumber\",\"creditLimit\"])\n",
    "df.head()"
   ]
  },
  {
   "cell_type": "markdown",
   "metadata": {},
   "source": [
    "## __BETWEEN__ operator"
   ]
  },
  {
   "cell_type": "markdown",
   "metadata": {},
   "source": [
    "This ioperator selects values within a given range, including begin and end values"
   ]
  },
  {
   "cell_type": "code",
   "execution_count": 131,
   "metadata": {},
   "outputs": [
    {
     "data": {
      "text/html": [
       "<div>\n",
       "<style scoped>\n",
       "    .dataframe tbody tr th:only-of-type {\n",
       "        vertical-align: middle;\n",
       "    }\n",
       "\n",
       "    .dataframe tbody tr th {\n",
       "        vertical-align: top;\n",
       "    }\n",
       "\n",
       "    .dataframe thead th {\n",
       "        text-align: right;\n",
       "    }\n",
       "</style>\n",
       "<table border=\"1\" class=\"dataframe\">\n",
       "  <thead>\n",
       "    <tr style=\"text-align: right;\">\n",
       "      <th></th>\n",
       "      <th>productCode</th>\n",
       "      <th>productName</th>\n",
       "      <th>productLine</th>\n",
       "      <th>productScale</th>\n",
       "      <th>productVendor</th>\n",
       "      <th>productDescription</th>\n",
       "      <th>quantityInStock</th>\n",
       "      <th>buyPrice</th>\n",
       "      <th>MSRP</th>\n",
       "    </tr>\n",
       "  </thead>\n",
       "  <tbody>\n",
       "    <tr>\n",
       "      <th>0</th>\n",
       "      <td>S18_1367</td>\n",
       "      <td>1936 Mercedes-Benz 500K Special Roadster</td>\n",
       "      <td>Vintage Cars</td>\n",
       "      <td>1:18</td>\n",
       "      <td>Studio M Art Models</td>\n",
       "      <td>This 1:18 scale replica is constructed of heav...</td>\n",
       "      <td>8635</td>\n",
       "      <td>24.26</td>\n",
       "      <td>53.91</td>\n",
       "    </tr>\n",
       "    <tr>\n",
       "      <th>1</th>\n",
       "      <td>S18_2432</td>\n",
       "      <td>1926 Ford Fire Engine</td>\n",
       "      <td>Trucks and Buses</td>\n",
       "      <td>1:18</td>\n",
       "      <td>Carousel DieCast Legends</td>\n",
       "      <td>Gleaming red handsome appearance. Everything i...</td>\n",
       "      <td>2018</td>\n",
       "      <td>24.92</td>\n",
       "      <td>60.77</td>\n",
       "    </tr>\n",
       "    <tr>\n",
       "      <th>2</th>\n",
       "      <td>S18_2625</td>\n",
       "      <td>1936 Harley Davidson El Knucklehead</td>\n",
       "      <td>Motorcycles</td>\n",
       "      <td>1:18</td>\n",
       "      <td>Welly Diecast Productions</td>\n",
       "      <td>Intricately detailed with chrome accents and t...</td>\n",
       "      <td>4357</td>\n",
       "      <td>24.23</td>\n",
       "      <td>60.57</td>\n",
       "    </tr>\n",
       "    <tr>\n",
       "      <th>3</th>\n",
       "      <td>S18_4668</td>\n",
       "      <td>1939 Cadillac Limousine</td>\n",
       "      <td>Vintage Cars</td>\n",
       "      <td>1:18</td>\n",
       "      <td>Studio M Art Models</td>\n",
       "      <td>Features completely detailed interior includin...</td>\n",
       "      <td>6645</td>\n",
       "      <td>23.14</td>\n",
       "      <td>50.31</td>\n",
       "    </tr>\n",
       "    <tr>\n",
       "      <th>4</th>\n",
       "      <td>S24_1628</td>\n",
       "      <td>1966 Shelby Cobra 427 S/C</td>\n",
       "      <td>Classic Cars</td>\n",
       "      <td>1:24</td>\n",
       "      <td>Carousel DieCast Legends</td>\n",
       "      <td>This diecast model of the 1966 Shelby Cobra 42...</td>\n",
       "      <td>8197</td>\n",
       "      <td>29.18</td>\n",
       "      <td>50.31</td>\n",
       "    </tr>\n",
       "  </tbody>\n",
       "</table>\n",
       "</div>"
      ],
      "text/plain": [
       "  productCode                               productName       productLine  \\\n",
       "0    S18_1367  1936 Mercedes-Benz 500K Special Roadster      Vintage Cars   \n",
       "1    S18_2432                     1926 Ford Fire Engine  Trucks and Buses   \n",
       "2    S18_2625       1936 Harley Davidson El Knucklehead       Motorcycles   \n",
       "3    S18_4668                   1939 Cadillac Limousine      Vintage Cars   \n",
       "4    S24_1628                 1966 Shelby Cobra 427 S/C      Classic Cars   \n",
       "\n",
       "  productScale              productVendor  \\\n",
       "0         1:18        Studio M Art Models   \n",
       "1         1:18   Carousel DieCast Legends   \n",
       "2         1:18  Welly Diecast Productions   \n",
       "3         1:18        Studio M Art Models   \n",
       "4         1:24   Carousel DieCast Legends   \n",
       "\n",
       "                                  productDescription  quantityInStock  \\\n",
       "0  This 1:18 scale replica is constructed of heav...             8635   \n",
       "1  Gleaming red handsome appearance. Everything i...             2018   \n",
       "2  Intricately detailed with chrome accents and t...             4357   \n",
       "3  Features completely detailed interior includin...             6645   \n",
       "4  This diecast model of the 1966 Shelby Cobra 42...             8197   \n",
       "\n",
       "  buyPrice   MSRP  \n",
       "0    24.26  53.91  \n",
       "1    24.92  60.77  \n",
       "2    24.23  60.57  \n",
       "3    23.14  50.31  \n",
       "4    29.18  50.31  "
      ]
     },
     "execution_count": 131,
     "metadata": {},
     "output_type": "execute_result"
    }
   ],
   "source": [
    "query=\"\"\"SELECT *\n",
    "    FROM products\n",
    "    WHERE buyPrice BETWEEN 10 AND 30;\"\"\"\n",
    "mycursor.execute(query)\n",
    "output=mycursor.fetchall()\n",
    "df=pd.DataFrame(output,columns=[\"productCode\",\"productName\",\"productLine\",\"productScale\",\"productVendor\",\"productDescription\",\"quantityInStock\",\"buyPrice\",\"MSRP\"])\n",
    "df.head()"
   ]
  },
  {
   "cell_type": "markdown",
   "metadata": {},
   "source": [
    "Or its negation"
   ]
  },
  {
   "cell_type": "code",
   "execution_count": 132,
   "metadata": {},
   "outputs": [
    {
     "data": {
      "text/html": [
       "<div>\n",
       "<style scoped>\n",
       "    .dataframe tbody tr th:only-of-type {\n",
       "        vertical-align: middle;\n",
       "    }\n",
       "\n",
       "    .dataframe tbody tr th {\n",
       "        vertical-align: top;\n",
       "    }\n",
       "\n",
       "    .dataframe thead th {\n",
       "        text-align: right;\n",
       "    }\n",
       "</style>\n",
       "<table border=\"1\" class=\"dataframe\">\n",
       "  <thead>\n",
       "    <tr style=\"text-align: right;\">\n",
       "      <th></th>\n",
       "      <th>productCode</th>\n",
       "      <th>productName</th>\n",
       "      <th>productLine</th>\n",
       "      <th>productScale</th>\n",
       "      <th>productVendor</th>\n",
       "      <th>productDescription</th>\n",
       "      <th>quantityInStock</th>\n",
       "      <th>buyPrice</th>\n",
       "      <th>MSRP</th>\n",
       "    </tr>\n",
       "  </thead>\n",
       "  <tbody>\n",
       "    <tr>\n",
       "      <th>0</th>\n",
       "      <td>S10_1678</td>\n",
       "      <td>1969 Harley Davidson Ultimate Chopper</td>\n",
       "      <td>Motorcycles</td>\n",
       "      <td>1:10</td>\n",
       "      <td>Min Lin Diecast</td>\n",
       "      <td>This replica features working kickstand, front...</td>\n",
       "      <td>7933</td>\n",
       "      <td>48.81</td>\n",
       "      <td>95.70</td>\n",
       "    </tr>\n",
       "    <tr>\n",
       "      <th>1</th>\n",
       "      <td>S10_1949</td>\n",
       "      <td>1952 Alpine Renault 1300</td>\n",
       "      <td>Classic Cars</td>\n",
       "      <td>1:10</td>\n",
       "      <td>Classic Metal Creations</td>\n",
       "      <td>Turnable front wheels; steering function; deta...</td>\n",
       "      <td>7305</td>\n",
       "      <td>98.58</td>\n",
       "      <td>214.30</td>\n",
       "    </tr>\n",
       "    <tr>\n",
       "      <th>2</th>\n",
       "      <td>S10_2016</td>\n",
       "      <td>1996 Moto Guzzi 1100i</td>\n",
       "      <td>Motorcycles</td>\n",
       "      <td>1:10</td>\n",
       "      <td>Highway 66 Mini Classics</td>\n",
       "      <td>Official Moto Guzzi logos and insignias, saddl...</td>\n",
       "      <td>6625</td>\n",
       "      <td>68.99</td>\n",
       "      <td>118.94</td>\n",
       "    </tr>\n",
       "    <tr>\n",
       "      <th>3</th>\n",
       "      <td>S10_4698</td>\n",
       "      <td>2003 Harley-Davidson Eagle Drag Bike</td>\n",
       "      <td>Motorcycles</td>\n",
       "      <td>1:10</td>\n",
       "      <td>Red Start Diecast</td>\n",
       "      <td>Model features, official Harley Davidson logos...</td>\n",
       "      <td>5582</td>\n",
       "      <td>91.02</td>\n",
       "      <td>193.66</td>\n",
       "    </tr>\n",
       "    <tr>\n",
       "      <th>4</th>\n",
       "      <td>S10_4757</td>\n",
       "      <td>1972 Alfa Romeo GTA</td>\n",
       "      <td>Classic Cars</td>\n",
       "      <td>1:10</td>\n",
       "      <td>Motor City Art Classics</td>\n",
       "      <td>Features include: Turnable front wheels; steer...</td>\n",
       "      <td>3252</td>\n",
       "      <td>85.68</td>\n",
       "      <td>136.00</td>\n",
       "    </tr>\n",
       "  </tbody>\n",
       "</table>\n",
       "</div>"
      ],
      "text/plain": [
       "  productCode                            productName   productLine  \\\n",
       "0    S10_1678  1969 Harley Davidson Ultimate Chopper   Motorcycles   \n",
       "1    S10_1949               1952 Alpine Renault 1300  Classic Cars   \n",
       "2    S10_2016                  1996 Moto Guzzi 1100i   Motorcycles   \n",
       "3    S10_4698   2003 Harley-Davidson Eagle Drag Bike   Motorcycles   \n",
       "4    S10_4757                    1972 Alfa Romeo GTA  Classic Cars   \n",
       "\n",
       "  productScale             productVendor  \\\n",
       "0         1:10           Min Lin Diecast   \n",
       "1         1:10   Classic Metal Creations   \n",
       "2         1:10  Highway 66 Mini Classics   \n",
       "3         1:10         Red Start Diecast   \n",
       "4         1:10   Motor City Art Classics   \n",
       "\n",
       "                                  productDescription  quantityInStock  \\\n",
       "0  This replica features working kickstand, front...             7933   \n",
       "1  Turnable front wheels; steering function; deta...             7305   \n",
       "2  Official Moto Guzzi logos and insignias, saddl...             6625   \n",
       "3  Model features, official Harley Davidson logos...             5582   \n",
       "4  Features include: Turnable front wheels; steer...             3252   \n",
       "\n",
       "  buyPrice    MSRP  \n",
       "0    48.81   95.70  \n",
       "1    98.58  214.30  \n",
       "2    68.99  118.94  \n",
       "3    91.02  193.66  \n",
       "4    85.68  136.00  "
      ]
     },
     "execution_count": 132,
     "metadata": {},
     "output_type": "execute_result"
    }
   ],
   "source": [
    "query=\"\"\"SELECT *\n",
    "    FROM products\n",
    "    WHERE buyPrice NOT BETWEEN 10 AND 30;\"\"\"\n",
    "mycursor.execute(query)\n",
    "output=mycursor.fetchall()\n",
    "df=pd.DataFrame(output,columns=[\"productCode\",\"productName\",\"productLine\",\"productScale\",\"productVendor\",\"productDescription\",\"quantityInStock\",\"buyPrice\",\"MSRP\"])\n",
    "df.head()"
   ]
  },
  {
   "cell_type": "markdown",
   "metadata": {},
   "source": [
    "Combining BETWEEN__ with __IN__"
   ]
  },
  {
   "cell_type": "code",
   "execution_count": null,
   "metadata": {},
   "outputs": [],
   "source": [
    "query=\"\"\"SELECT *\n",
    "    FROM products\n",
    "    WHERE productName IN  BETWEEN 10 AND 30;\"\"\"\n",
    "mycursor.execute(query)\n",
    "output=mycursor.fetchall()\n",
    "df=pd.DataFrame(output,columns=[\"productCode\",\"productName\",\"productLine\",\"productScale\",\"productVendor\",\"productDescription\",\"quantityInStock\",\"buyPrice\",\"MSRP\"])\n",
    "df.head()"
   ]
  },
  {
   "cell_type": "markdown",
   "metadata": {},
   "source": [
    "## Combining functions"
   ]
  },
  {
   "cell_type": "code",
   "execution_count": 88,
   "metadata": {},
   "outputs": [
    {
     "name": "stdout",
     "output_type": "stream",
     "text": [
      "[('buyPrice',), ('MSRP',), ('productCode',), ('productDescription',), ('productLine',), ('productName',), ('productScale',), ('productVendor',), ('quantityInStock',)]\n"
     ]
    }
   ],
   "source": [
    "# Select minimum buyPrice from products table\n",
    "query=\"\"\"SELECT column_name FROM information_schema.columns\n",
    "WHERE table_name='products'\"\"\"\n",
    "mycursor.execute(query)\n",
    "output=mycursor.fetchall()\n",
    "print(output)"
   ]
  },
  {
   "cell_type": "code",
   "execution_count": 94,
   "metadata": {},
   "outputs": [
    {
     "data": {
      "text/html": [
       "<div>\n",
       "<style scoped>\n",
       "    .dataframe tbody tr th:only-of-type {\n",
       "        vertical-align: middle;\n",
       "    }\n",
       "\n",
       "    .dataframe tbody tr th {\n",
       "        vertical-align: top;\n",
       "    }\n",
       "\n",
       "    .dataframe thead th {\n",
       "        text-align: right;\n",
       "    }\n",
       "</style>\n",
       "<table border=\"1\" class=\"dataframe\">\n",
       "  <thead>\n",
       "    <tr style=\"text-align: right;\">\n",
       "      <th></th>\n",
       "      <th>buyPrice</th>\n",
       "      <th>productScale</th>\n",
       "      <th>productLine</th>\n",
       "    </tr>\n",
       "  </thead>\n",
       "  <tbody>\n",
       "    <tr>\n",
       "      <th>0</th>\n",
       "      <td>103.42</td>\n",
       "      <td>1:10</td>\n",
       "      <td>Classic Cars</td>\n",
       "    </tr>\n",
       "    <tr>\n",
       "      <th>1</th>\n",
       "      <td>101.51</td>\n",
       "      <td>1:18</td>\n",
       "      <td>Classic Cars</td>\n",
       "    </tr>\n",
       "    <tr>\n",
       "      <th>2</th>\n",
       "      <td>98.58</td>\n",
       "      <td>1:10</td>\n",
       "      <td>Classic Cars</td>\n",
       "    </tr>\n",
       "    <tr>\n",
       "      <th>3</th>\n",
       "      <td>98.30</td>\n",
       "      <td>1:18</td>\n",
       "      <td>Classic Cars</td>\n",
       "    </tr>\n",
       "    <tr>\n",
       "      <th>4</th>\n",
       "      <td>95.59</td>\n",
       "      <td>1:12</td>\n",
       "      <td>Classic Cars</td>\n",
       "    </tr>\n",
       "  </tbody>\n",
       "</table>\n",
       "</div>"
      ],
      "text/plain": [
       "  buyPrice productScale   productLine\n",
       "0   103.42         1:10  Classic Cars\n",
       "1   101.51         1:18  Classic Cars\n",
       "2    98.58         1:10  Classic Cars\n",
       "3    98.30         1:18  Classic Cars\n",
       "4    95.59         1:12  Classic Cars"
      ]
     },
     "execution_count": 94,
     "metadata": {},
     "output_type": "execute_result"
    }
   ],
   "source": [
    "# Select minimum buyPrice from products table\n",
    "query=\"\"\"SELECT buyPrice, productScale, productLine FROM products\n",
    "WHERE buyprice>50 AND quantityInStock>10\n",
    "ORDER BY buyPrice DESC;\"\"\"\n",
    "mycursor.execute(query)\n",
    "output=mycursor.fetchall()\n",
    "df=pd.DataFrame(output,columns=[\"buyPrice\", \"productScale\", \"productLine\"])\n",
    "df.head()"
   ]
  },
  {
   "cell_type": "code",
   "execution_count": null,
   "metadata": {},
   "outputs": [],
   "source": []
  }
 ],
 "metadata": {
  "kernelspec": {
   "display_name": "Python 3.8.13 ('base')",
   "language": "python",
   "name": "python3"
  },
  "language_info": {
   "codemirror_mode": {
    "name": "ipython",
    "version": 3
   },
   "file_extension": ".py",
   "mimetype": "text/x-python",
   "name": "python",
   "nbconvert_exporter": "python",
   "pygments_lexer": "ipython3",
   "version": "3.8.13"
  },
  "orig_nbformat": 4,
  "vscode": {
   "interpreter": {
    "hash": "a05f93782d31fb45d30263a0389582a01d7e14abf3ec6aacde92652303ee35ce"
   }
  }
 },
 "nbformat": 4,
 "nbformat_minor": 2
}
